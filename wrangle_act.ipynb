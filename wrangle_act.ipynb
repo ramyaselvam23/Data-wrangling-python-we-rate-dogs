{
 "cells": [
  {
   "cell_type": "markdown",
   "metadata": {},
   "source": [
    "# GATHERING :"
   ]
  },
  {
   "cell_type": "code",
   "execution_count": 49,
   "metadata": {},
   "outputs": [],
   "source": [
    "import requests\n",
    "import pandas as pd\n",
    "import numpy as np\n",
    "import tweepy\n",
    "import json\n",
    "import time\n",
    "import matplotlib.pyplot as plt\n",
    "import os\n",
    "import re"
   ]
  },
  {
   "cell_type": "markdown",
   "metadata": {},
   "source": [
    "GATHER TWITTER ARCHIVE "
   ]
  },
  {
   "cell_type": "code",
   "execution_count": 50,
   "metadata": {},
   "outputs": [],
   "source": [
    "\n",
    "twitter_archive_raw = pd.read_csv('twitter-archive-enhanced.csv',encoding='cp1252')\n",
    "\n"
   ]
  },
  {
   "cell_type": "markdown",
   "metadata": {},
   "source": [
    "GETTING IMAGES PREDICTION USING URL"
   ]
  },
  {
   "cell_type": "code",
   "execution_count": 51,
   "metadata": {
    "scrolled": true
   },
   "outputs": [],
   "source": [
    "\n",
    "\n",
    "url = 'https://d17h27t6h515a5.cloudfront.net/topher/2017/August/599fd2ad_image-predictions/image-predictions.tsv'\n",
    "response = requests.get(url)\n",
    "folder = 'image-predictions'\n",
    "if not os.path.exists(folder):\n",
    "    os.makedirs(folder)\n",
    "    \n",
    "with open(os.path.join(folder, url.split('/')[-1]), mode='wb') as file:\n",
    "    file.write(response.content)\n",
    "   "
   ]
  },
  {
   "cell_type": "markdown",
   "metadata": {},
   "source": [
    "GATHERING TWITTER STATUS USING API"
   ]
  },
  {
   "cell_type": "code",
   "execution_count": 4,
   "metadata": {},
   "outputs": [],
   "source": [
    "\n",
    "consumer_key = \"xxxx\"\n",
    "consumer_secret = \"xxxx\"\n",
    "access_token = \"xxxx\"\n",
    "access_secret = \"xxxx\"\n",
    "\n",
    "auth = tweepy.OAuthHandler(consumer_key, consumer_secret)\n",
    "auth.set_access_token(access_token, access_secret)\n",
    "\n",
    "api = tweepy.API(auth, parser=tweepy.parsers.JSONParser(), \n",
    "                 wait_on_rate_limit=True, wait_on_rate_limit_notify=True)"
   ]
  },
  {
   "cell_type": "markdown",
   "metadata": {},
   "source": [
    "GATHERING TWEETS STATUS IN JSON FORMAT"
   ]
  },
  {
   "cell_type": "code",
   "execution_count": 5,
   "metadata": {},
   "outputs": [
    {
     "name": "stdout",
     "output_type": "stream",
     "text": [
      "Rate limit reached. Sleeping for: 305\n",
      "Completed ~ 1  Length of twitter_list is 2  Length of errors list is 0\n",
      "Completed ~ 101  Length of twitter_list is 92  Length of errors list is 10\n",
      "Completed ~ 201  Length of twitter_list is 168  Length of errors list is 34\n",
      "Completed ~ 301  Length of twitter_list is 254  Length of errors list is 48\n",
      "Completed ~ 401  Length of twitter_list is 340  Length of errors list is 62\n",
      "Completed ~ 601  Length of twitter_list is 509  Length of errors list is 93\n",
      "Completed ~ 701  Length of twitter_list is 603  Length of errors list is 99\n",
      "Completed ~ 801  Length of twitter_list is 701  Length of errors list is 101\n",
      "Rate limit reached. Sleeping for: 737\n",
      "Completed ~ 901  Length of twitter_list is 794  Length of errors list is 108\n",
      "Completed ~ 1001  Length of twitter_list is 887  Length of errors list is 115\n",
      "Completed ~ 1101  Length of twitter_list is 981  Length of errors list is 121\n",
      "Completed ~ 1201  Length of twitter_list is 1079  Length of errors list is 123\n",
      "Completed ~ 1301  Length of twitter_list is 1176  Length of errors list is 126\n",
      "Completed ~ 1401  Length of twitter_list is 1265  Length of errors list is 137\n",
      "Completed ~ 1501  Length of twitter_list is 1363  Length of errors list is 139\n",
      "Completed ~ 1601  Length of twitter_list is 1462  Length of errors list is 140\n",
      "Completed ~ 1701  Length of twitter_list is 1556  Length of errors list is 146\n",
      "Rate limit reached. Sleeping for: 735\n",
      "Completed ~ 1901  Length of twitter_list is 1747  Length of errors list is 155\n",
      "Completed ~ 2001  Length of twitter_list is 1846  Length of errors list is 156\n",
      "Completed ~ 2101  Length of twitter_list is 1942  Length of errors list is 160\n",
      "Completed ~ 2201  Length of twitter_list is 2042  Length of errors list is 160\n",
      "Completed ~ 2301  Length of twitter_list is 2134  Length of errors list is 168\n",
      "Completed ~ 2401  Length of twitter_list is 2232  Length of errors list is 170\n",
      "Completed ~ 2501  Length of twitter_list is 2326  Length of errors list is 176\n"
     ]
    }
   ],
   "source": [
    "twitter_list = []\n",
    "errors = []\n",
    "tweet_id_list = twitter_archive.tweet_id.tolist()\n",
    "status_list = range(1, len(tweet_id_list), 100)\n",
    "\n",
    "for index, id in enumerate(tweet_id_list):\n",
    "    try:\n",
    "        page = api.get_status(id)\n",
    "        favorites = page['favorite_count']\n",
    "        retweets = page['retweet_count']\n",
    "        twitter_list.append({'tweet_id': int(id),\n",
    "                        'favorites': int(favorites),\n",
    "                        'retweets': int(retweets)})\n",
    "        if index in status_list:\n",
    "            print('Completed ~', index, ' Length of twitter_list is', \n",
    "                  len(twitter_list), ' Length of errors list is', \n",
    "                  len(errors))\n",
    "        else:\n",
    "            pass\n",
    "    except Exception as e:\n",
    "        errors.append((id, e))"
   ]
  },
  {
   "cell_type": "code",
   "execution_count": 6,
   "metadata": {},
   "outputs": [],
   "source": [
    "with open('tweet_json.txt', 'w') as file:\n",
    "     file.write(json.dumps(twitter_list))"
   ]
  },
  {
   "cell_type": "markdown",
   "metadata": {},
   "source": [
    "# ASSESSING"
   ]
  },
  {
   "cell_type": "markdown",
   "metadata": {},
   "source": [
    "ASSESSING STATUS"
   ]
  },
  {
   "cell_type": "code",
   "execution_count": 52,
   "metadata": {},
   "outputs": [
    {
     "name": "stdout",
     "output_type": "stream",
     "text": [
      "<class 'pandas.core.frame.DataFrame'>\n",
      "Int64Index: 2341 entries, 0 to 2340\n",
      "Data columns (total 3 columns):\n",
      "favorites    2341 non-null int64\n",
      "retweets     2341 non-null int64\n",
      "tweet_id     2341 non-null int64\n",
      "dtypes: int64(3)\n",
      "memory usage: 73.2 KB\n"
     ]
    }
   ],
   "source": [
    "status_raw = pd.read_json('tweet_json.txt')\n",
    "status=status_raw.copy()\n",
    "status_raw.info()\n"
   ]
  },
  {
   "cell_type": "code",
   "execution_count": 53,
   "metadata": {},
   "outputs": [
    {
     "data": {
      "text/html": [
       "<div>\n",
       "<style>\n",
       "    .dataframe thead tr:only-child th {\n",
       "        text-align: right;\n",
       "    }\n",
       "\n",
       "    .dataframe thead th {\n",
       "        text-align: left;\n",
       "    }\n",
       "\n",
       "    .dataframe tbody tr th {\n",
       "        vertical-align: top;\n",
       "    }\n",
       "</style>\n",
       "<table border=\"1\" class=\"dataframe\">\n",
       "  <thead>\n",
       "    <tr style=\"text-align: right;\">\n",
       "      <th></th>\n",
       "      <th>favorites</th>\n",
       "      <th>retweets</th>\n",
       "      <th>tweet_id</th>\n",
       "    </tr>\n",
       "  </thead>\n",
       "  <tbody>\n",
       "    <tr>\n",
       "      <th>0</th>\n",
       "      <td>38301</td>\n",
       "      <td>8404</td>\n",
       "      <td>892420643555336193</td>\n",
       "    </tr>\n",
       "    <tr>\n",
       "      <th>1</th>\n",
       "      <td>32825</td>\n",
       "      <td>6197</td>\n",
       "      <td>892177421306343426</td>\n",
       "    </tr>\n",
       "    <tr>\n",
       "      <th>2</th>\n",
       "      <td>24721</td>\n",
       "      <td>4100</td>\n",
       "      <td>891815181378084864</td>\n",
       "    </tr>\n",
       "    <tr>\n",
       "      <th>3</th>\n",
       "      <td>41633</td>\n",
       "      <td>8531</td>\n",
       "      <td>891689557279858688</td>\n",
       "    </tr>\n",
       "    <tr>\n",
       "      <th>4</th>\n",
       "      <td>39798</td>\n",
       "      <td>9248</td>\n",
       "      <td>891327558926688256</td>\n",
       "    </tr>\n",
       "    <tr>\n",
       "      <th>5</th>\n",
       "      <td>19984</td>\n",
       "      <td>3073</td>\n",
       "      <td>891087950875897856</td>\n",
       "    </tr>\n",
       "    <tr>\n",
       "      <th>6</th>\n",
       "      <td>11699</td>\n",
       "      <td>2041</td>\n",
       "      <td>890971913173991426</td>\n",
       "    </tr>\n",
       "    <tr>\n",
       "      <th>7</th>\n",
       "      <td>64638</td>\n",
       "      <td>18638</td>\n",
       "      <td>890729181411237888</td>\n",
       "    </tr>\n",
       "    <tr>\n",
       "      <th>8</th>\n",
       "      <td>27472</td>\n",
       "      <td>4215</td>\n",
       "      <td>890609185150312448</td>\n",
       "    </tr>\n",
       "    <tr>\n",
       "      <th>9</th>\n",
       "      <td>31522</td>\n",
       "      <td>7293</td>\n",
       "      <td>890240255349198849</td>\n",
       "    </tr>\n",
       "  </tbody>\n",
       "</table>\n",
       "</div>"
      ],
      "text/plain": [
       "   favorites  retweets            tweet_id\n",
       "0      38301      8404  892420643555336193\n",
       "1      32825      6197  892177421306343426\n",
       "2      24721      4100  891815181378084864\n",
       "3      41633      8531  891689557279858688\n",
       "4      39798      9248  891327558926688256\n",
       "5      19984      3073  891087950875897856\n",
       "6      11699      2041  890971913173991426\n",
       "7      64638     18638  890729181411237888\n",
       "8      27472      4215  890609185150312448\n",
       "9      31522      7293  890240255349198849"
      ]
     },
     "execution_count": 53,
     "metadata": {},
     "output_type": "execute_result"
    }
   ],
   "source": [
    "status.head(10)"
   ]
  },
  {
   "cell_type": "markdown",
   "metadata": {},
   "source": [
    "ASSESSING IMAGE PREDICTION"
   ]
  },
  {
   "cell_type": "code",
   "execution_count": 54,
   "metadata": {},
   "outputs": [
    {
     "name": "stdout",
     "output_type": "stream",
     "text": [
      "<class 'pandas.core.frame.DataFrame'>\n",
      "RangeIndex: 2075 entries, 0 to 2074\n",
      "Data columns (total 12 columns):\n",
      "tweet_id    2075 non-null int64\n",
      "jpg_url     2075 non-null object\n",
      "img_num     2075 non-null int64\n",
      "p1          2075 non-null object\n",
      "p1_conf     2075 non-null float64\n",
      "p1_dog      2075 non-null bool\n",
      "p2          2075 non-null object\n",
      "p2_conf     2075 non-null float64\n",
      "p2_dog      2075 non-null bool\n",
      "p3          2075 non-null object\n",
      "p3_conf     2075 non-null float64\n",
      "p3_dog      2075 non-null bool\n",
      "dtypes: bool(3), float64(3), int64(2), object(4)\n",
      "memory usage: 152.1+ KB\n"
     ]
    }
   ],
   "source": [
    "image_prediction_raw = pd.read_csv(folder + '/image-predictions.tsv', sep='\\t')  \n",
    "image_prediction=image_prediction_raw.copy()\n",
    "image_prediction_raw.info()    "
   ]
  },
  {
   "cell_type": "code",
   "execution_count": 55,
   "metadata": {},
   "outputs": [
    {
     "data": {
      "text/html": [
       "<div>\n",
       "<style>\n",
       "    .dataframe thead tr:only-child th {\n",
       "        text-align: right;\n",
       "    }\n",
       "\n",
       "    .dataframe thead th {\n",
       "        text-align: left;\n",
       "    }\n",
       "\n",
       "    .dataframe tbody tr th {\n",
       "        vertical-align: top;\n",
       "    }\n",
       "</style>\n",
       "<table border=\"1\" class=\"dataframe\">\n",
       "  <thead>\n",
       "    <tr style=\"text-align: right;\">\n",
       "      <th></th>\n",
       "      <th>tweet_id</th>\n",
       "      <th>jpg_url</th>\n",
       "      <th>img_num</th>\n",
       "      <th>p1</th>\n",
       "      <th>p1_conf</th>\n",
       "      <th>p1_dog</th>\n",
       "      <th>p2</th>\n",
       "      <th>p2_conf</th>\n",
       "      <th>p2_dog</th>\n",
       "      <th>p3</th>\n",
       "      <th>p3_conf</th>\n",
       "      <th>p3_dog</th>\n",
       "    </tr>\n",
       "  </thead>\n",
       "  <tbody>\n",
       "    <tr>\n",
       "      <th>0</th>\n",
       "      <td>666020888022790149</td>\n",
       "      <td>https://pbs.twimg.com/media/CT4udn0WwAA0aMy.jpg</td>\n",
       "      <td>1</td>\n",
       "      <td>Welsh_springer_spaniel</td>\n",
       "      <td>0.465074</td>\n",
       "      <td>True</td>\n",
       "      <td>collie</td>\n",
       "      <td>0.156665</td>\n",
       "      <td>True</td>\n",
       "      <td>Shetland_sheepdog</td>\n",
       "      <td>0.061428</td>\n",
       "      <td>True</td>\n",
       "    </tr>\n",
       "    <tr>\n",
       "      <th>1</th>\n",
       "      <td>666029285002620928</td>\n",
       "      <td>https://pbs.twimg.com/media/CT42GRgUYAA5iDo.jpg</td>\n",
       "      <td>1</td>\n",
       "      <td>redbone</td>\n",
       "      <td>0.506826</td>\n",
       "      <td>True</td>\n",
       "      <td>miniature_pinscher</td>\n",
       "      <td>0.074192</td>\n",
       "      <td>True</td>\n",
       "      <td>Rhodesian_ridgeback</td>\n",
       "      <td>0.072010</td>\n",
       "      <td>True</td>\n",
       "    </tr>\n",
       "    <tr>\n",
       "      <th>2</th>\n",
       "      <td>666033412701032449</td>\n",
       "      <td>https://pbs.twimg.com/media/CT4521TWwAEvMyu.jpg</td>\n",
       "      <td>1</td>\n",
       "      <td>German_shepherd</td>\n",
       "      <td>0.596461</td>\n",
       "      <td>True</td>\n",
       "      <td>malinois</td>\n",
       "      <td>0.138584</td>\n",
       "      <td>True</td>\n",
       "      <td>bloodhound</td>\n",
       "      <td>0.116197</td>\n",
       "      <td>True</td>\n",
       "    </tr>\n",
       "    <tr>\n",
       "      <th>3</th>\n",
       "      <td>666044226329800704</td>\n",
       "      <td>https://pbs.twimg.com/media/CT5Dr8HUEAA-lEu.jpg</td>\n",
       "      <td>1</td>\n",
       "      <td>Rhodesian_ridgeback</td>\n",
       "      <td>0.408143</td>\n",
       "      <td>True</td>\n",
       "      <td>redbone</td>\n",
       "      <td>0.360687</td>\n",
       "      <td>True</td>\n",
       "      <td>miniature_pinscher</td>\n",
       "      <td>0.222752</td>\n",
       "      <td>True</td>\n",
       "    </tr>\n",
       "    <tr>\n",
       "      <th>4</th>\n",
       "      <td>666049248165822465</td>\n",
       "      <td>https://pbs.twimg.com/media/CT5IQmsXIAAKY4A.jpg</td>\n",
       "      <td>1</td>\n",
       "      <td>miniature_pinscher</td>\n",
       "      <td>0.560311</td>\n",
       "      <td>True</td>\n",
       "      <td>Rottweiler</td>\n",
       "      <td>0.243682</td>\n",
       "      <td>True</td>\n",
       "      <td>Doberman</td>\n",
       "      <td>0.154629</td>\n",
       "      <td>True</td>\n",
       "    </tr>\n",
       "    <tr>\n",
       "      <th>5</th>\n",
       "      <td>666050758794694657</td>\n",
       "      <td>https://pbs.twimg.com/media/CT5Jof1WUAEuVxN.jpg</td>\n",
       "      <td>1</td>\n",
       "      <td>Bernese_mountain_dog</td>\n",
       "      <td>0.651137</td>\n",
       "      <td>True</td>\n",
       "      <td>English_springer</td>\n",
       "      <td>0.263788</td>\n",
       "      <td>True</td>\n",
       "      <td>Greater_Swiss_Mountain_dog</td>\n",
       "      <td>0.016199</td>\n",
       "      <td>True</td>\n",
       "    </tr>\n",
       "    <tr>\n",
       "      <th>6</th>\n",
       "      <td>666051853826850816</td>\n",
       "      <td>https://pbs.twimg.com/media/CT5KoJ1WoAAJash.jpg</td>\n",
       "      <td>1</td>\n",
       "      <td>box_turtle</td>\n",
       "      <td>0.933012</td>\n",
       "      <td>False</td>\n",
       "      <td>mud_turtle</td>\n",
       "      <td>0.045885</td>\n",
       "      <td>False</td>\n",
       "      <td>terrapin</td>\n",
       "      <td>0.017885</td>\n",
       "      <td>False</td>\n",
       "    </tr>\n",
       "    <tr>\n",
       "      <th>7</th>\n",
       "      <td>666055525042405380</td>\n",
       "      <td>https://pbs.twimg.com/media/CT5N9tpXIAAifs1.jpg</td>\n",
       "      <td>1</td>\n",
       "      <td>chow</td>\n",
       "      <td>0.692517</td>\n",
       "      <td>True</td>\n",
       "      <td>Tibetan_mastiff</td>\n",
       "      <td>0.058279</td>\n",
       "      <td>True</td>\n",
       "      <td>fur_coat</td>\n",
       "      <td>0.054449</td>\n",
       "      <td>False</td>\n",
       "    </tr>\n",
       "    <tr>\n",
       "      <th>8</th>\n",
       "      <td>666057090499244032</td>\n",
       "      <td>https://pbs.twimg.com/media/CT5PY90WoAAQGLo.jpg</td>\n",
       "      <td>1</td>\n",
       "      <td>shopping_cart</td>\n",
       "      <td>0.962465</td>\n",
       "      <td>False</td>\n",
       "      <td>shopping_basket</td>\n",
       "      <td>0.014594</td>\n",
       "      <td>False</td>\n",
       "      <td>golden_retriever</td>\n",
       "      <td>0.007959</td>\n",
       "      <td>True</td>\n",
       "    </tr>\n",
       "    <tr>\n",
       "      <th>9</th>\n",
       "      <td>666058600524156928</td>\n",
       "      <td>https://pbs.twimg.com/media/CT5Qw94XAAA_2dP.jpg</td>\n",
       "      <td>1</td>\n",
       "      <td>miniature_poodle</td>\n",
       "      <td>0.201493</td>\n",
       "      <td>True</td>\n",
       "      <td>komondor</td>\n",
       "      <td>0.192305</td>\n",
       "      <td>True</td>\n",
       "      <td>soft-coated_wheaten_terrier</td>\n",
       "      <td>0.082086</td>\n",
       "      <td>True</td>\n",
       "    </tr>\n",
       "  </tbody>\n",
       "</table>\n",
       "</div>"
      ],
      "text/plain": [
       "             tweet_id                                          jpg_url  \\\n",
       "0  666020888022790149  https://pbs.twimg.com/media/CT4udn0WwAA0aMy.jpg   \n",
       "1  666029285002620928  https://pbs.twimg.com/media/CT42GRgUYAA5iDo.jpg   \n",
       "2  666033412701032449  https://pbs.twimg.com/media/CT4521TWwAEvMyu.jpg   \n",
       "3  666044226329800704  https://pbs.twimg.com/media/CT5Dr8HUEAA-lEu.jpg   \n",
       "4  666049248165822465  https://pbs.twimg.com/media/CT5IQmsXIAAKY4A.jpg   \n",
       "5  666050758794694657  https://pbs.twimg.com/media/CT5Jof1WUAEuVxN.jpg   \n",
       "6  666051853826850816  https://pbs.twimg.com/media/CT5KoJ1WoAAJash.jpg   \n",
       "7  666055525042405380  https://pbs.twimg.com/media/CT5N9tpXIAAifs1.jpg   \n",
       "8  666057090499244032  https://pbs.twimg.com/media/CT5PY90WoAAQGLo.jpg   \n",
       "9  666058600524156928  https://pbs.twimg.com/media/CT5Qw94XAAA_2dP.jpg   \n",
       "\n",
       "   img_num                      p1   p1_conf  p1_dog                  p2  \\\n",
       "0        1  Welsh_springer_spaniel  0.465074    True              collie   \n",
       "1        1                 redbone  0.506826    True  miniature_pinscher   \n",
       "2        1         German_shepherd  0.596461    True            malinois   \n",
       "3        1     Rhodesian_ridgeback  0.408143    True             redbone   \n",
       "4        1      miniature_pinscher  0.560311    True          Rottweiler   \n",
       "5        1    Bernese_mountain_dog  0.651137    True    English_springer   \n",
       "6        1              box_turtle  0.933012   False          mud_turtle   \n",
       "7        1                    chow  0.692517    True     Tibetan_mastiff   \n",
       "8        1           shopping_cart  0.962465   False     shopping_basket   \n",
       "9        1        miniature_poodle  0.201493    True            komondor   \n",
       "\n",
       "    p2_conf  p2_dog                           p3   p3_conf  p3_dog  \n",
       "0  0.156665    True            Shetland_sheepdog  0.061428    True  \n",
       "1  0.074192    True          Rhodesian_ridgeback  0.072010    True  \n",
       "2  0.138584    True                   bloodhound  0.116197    True  \n",
       "3  0.360687    True           miniature_pinscher  0.222752    True  \n",
       "4  0.243682    True                     Doberman  0.154629    True  \n",
       "5  0.263788    True   Greater_Swiss_Mountain_dog  0.016199    True  \n",
       "6  0.045885   False                     terrapin  0.017885   False  \n",
       "7  0.058279    True                     fur_coat  0.054449   False  \n",
       "8  0.014594   False             golden_retriever  0.007959    True  \n",
       "9  0.192305    True  soft-coated_wheaten_terrier  0.082086    True  "
      ]
     },
     "execution_count": 55,
     "metadata": {},
     "output_type": "execute_result"
    }
   ],
   "source": [
    "image_prediction.head(10)"
   ]
  },
  {
   "cell_type": "markdown",
   "metadata": {},
   "source": [
    "ASSESSING TWITTER ARCHIVE "
   ]
  },
  {
   "cell_type": "code",
   "execution_count": 56,
   "metadata": {},
   "outputs": [
    {
     "name": "stdout",
     "output_type": "stream",
     "text": [
      "<class 'pandas.core.frame.DataFrame'>\n",
      "RangeIndex: 2517 entries, 0 to 2516\n",
      "Data columns (total 17 columns):\n",
      "tweet_id                      2467 non-null object\n",
      "in_reply_to_status_id         94 non-null object\n",
      "in_reply_to_user_id           94 non-null object\n",
      "timestamp                     2372 non-null object\n",
      "source                        2447 non-null object\n",
      "text                          2451 non-null object\n",
      "retweeted_status_id           261 non-null float64\n",
      "retweeted_status_user_id      261 non-null object\n",
      "retweeted_status_timestamp    261 non-null object\n",
      "expanded_urls                 2302 non-null object\n",
      "rating_numerator              2356 non-null object\n",
      "rating_denominator            2356 non-null object\n",
      "name                          2261 non-null object\n",
      "doggo                         2261 non-null object\n",
      "floofer                       2261 non-null object\n",
      "pupper                        2261 non-null object\n",
      "puppo                         2261 non-null object\n",
      "dtypes: float64(1), object(16)\n",
      "memory usage: 334.4+ KB\n"
     ]
    }
   ],
   "source": [
    "twitter_archive_raw.info()"
   ]
  },
  {
   "cell_type": "code",
   "execution_count": 97,
   "metadata": {},
   "outputs": [
    {
     "data": {
      "text/html": [
       "<div>\n",
       "<style>\n",
       "    .dataframe thead tr:only-child th {\n",
       "        text-align: right;\n",
       "    }\n",
       "\n",
       "    .dataframe thead th {\n",
       "        text-align: left;\n",
       "    }\n",
       "\n",
       "    .dataframe tbody tr th {\n",
       "        vertical-align: top;\n",
       "    }\n",
       "</style>\n",
       "<table border=\"1\" class=\"dataframe\">\n",
       "  <thead>\n",
       "    <tr style=\"text-align: right;\">\n",
       "      <th></th>\n",
       "      <th>tweet_id</th>\n",
       "      <th>in_reply_to_status_id</th>\n",
       "      <th>in_reply_to_user_id</th>\n",
       "      <th>timestamp</th>\n",
       "      <th>source</th>\n",
       "      <th>text</th>\n",
       "      <th>retweeted_status_id</th>\n",
       "      <th>retweeted_status_user_id</th>\n",
       "      <th>retweeted_status_timestamp</th>\n",
       "      <th>expanded_urls</th>\n",
       "      <th>rating_numerator</th>\n",
       "      <th>rating_denominator</th>\n",
       "      <th>name</th>\n",
       "      <th>doggo</th>\n",
       "      <th>floofer</th>\n",
       "      <th>pupper</th>\n",
       "      <th>puppo</th>\n",
       "    </tr>\n",
       "  </thead>\n",
       "  <tbody>\n",
       "    <tr>\n",
       "      <th>0</th>\n",
       "      <td>892420643555336193</td>\n",
       "      <td>NaN</td>\n",
       "      <td>NaN</td>\n",
       "      <td>2017-08-01 16:23:56 +0000</td>\n",
       "      <td>&lt;a href=\"http://twitter.com/download/iphone\" r...</td>\n",
       "      <td>This is Phineas. He's a mystical boy. Only eve...</td>\n",
       "      <td>NaN</td>\n",
       "      <td>NaN</td>\n",
       "      <td>NaN</td>\n",
       "      <td>https://twitter.com/dog_rates/status/892420643...</td>\n",
       "      <td>13</td>\n",
       "      <td>10</td>\n",
       "      <td>Phineas</td>\n",
       "      <td>None</td>\n",
       "      <td>None</td>\n",
       "      <td>None</td>\n",
       "      <td>None</td>\n",
       "    </tr>\n",
       "    <tr>\n",
       "      <th>1</th>\n",
       "      <td>892177421306343426</td>\n",
       "      <td>NaN</td>\n",
       "      <td>NaN</td>\n",
       "      <td>2017-08-01 00:17:27 +0000</td>\n",
       "      <td>&lt;a href=\"http://twitter.com/download/iphone\" r...</td>\n",
       "      <td>This is Tilly. She's just checking pup on you....</td>\n",
       "      <td>NaN</td>\n",
       "      <td>NaN</td>\n",
       "      <td>NaN</td>\n",
       "      <td>https://twitter.com/dog_rates/status/892177421...</td>\n",
       "      <td>13</td>\n",
       "      <td>10</td>\n",
       "      <td>Tilly</td>\n",
       "      <td>None</td>\n",
       "      <td>None</td>\n",
       "      <td>None</td>\n",
       "      <td>None</td>\n",
       "    </tr>\n",
       "    <tr>\n",
       "      <th>2</th>\n",
       "      <td>891815181378084864</td>\n",
       "      <td>NaN</td>\n",
       "      <td>NaN</td>\n",
       "      <td>2017-07-31 00:18:03 +0000</td>\n",
       "      <td>&lt;a href=\"http://twitter.com/download/iphone\" r...</td>\n",
       "      <td>This is Archie. He is a rare Norwegian Pouncin...</td>\n",
       "      <td>NaN</td>\n",
       "      <td>NaN</td>\n",
       "      <td>NaN</td>\n",
       "      <td>https://twitter.com/dog_rates/status/891815181...</td>\n",
       "      <td>12</td>\n",
       "      <td>10</td>\n",
       "      <td>Archie</td>\n",
       "      <td>None</td>\n",
       "      <td>None</td>\n",
       "      <td>None</td>\n",
       "      <td>None</td>\n",
       "    </tr>\n",
       "    <tr>\n",
       "      <th>3</th>\n",
       "      <td>891689557279858688</td>\n",
       "      <td>NaN</td>\n",
       "      <td>NaN</td>\n",
       "      <td>2017-07-30 15:58:51 +0000</td>\n",
       "      <td>&lt;a href=\"http://twitter.com/download/iphone\" r...</td>\n",
       "      <td>This is Darla. She commenced a snooze mid meal...</td>\n",
       "      <td>NaN</td>\n",
       "      <td>NaN</td>\n",
       "      <td>NaN</td>\n",
       "      <td>https://twitter.com/dog_rates/status/891689557...</td>\n",
       "      <td>13</td>\n",
       "      <td>10</td>\n",
       "      <td>Darla</td>\n",
       "      <td>None</td>\n",
       "      <td>None</td>\n",
       "      <td>None</td>\n",
       "      <td>None</td>\n",
       "    </tr>\n",
       "    <tr>\n",
       "      <th>4</th>\n",
       "      <td>891327558926688256</td>\n",
       "      <td>NaN</td>\n",
       "      <td>NaN</td>\n",
       "      <td>2017-07-29 16:00:24 +0000</td>\n",
       "      <td>&lt;a href=\"http://twitter.com/download/iphone\" r...</td>\n",
       "      <td>This is Franklin. He would like you to stop ca...</td>\n",
       "      <td>NaN</td>\n",
       "      <td>NaN</td>\n",
       "      <td>NaN</td>\n",
       "      <td>https://twitter.com/dog_rates/status/891327558...</td>\n",
       "      <td>12</td>\n",
       "      <td>10</td>\n",
       "      <td>Franklin</td>\n",
       "      <td>None</td>\n",
       "      <td>None</td>\n",
       "      <td>None</td>\n",
       "      <td>None</td>\n",
       "    </tr>\n",
       "    <tr>\n",
       "      <th>5</th>\n",
       "      <td>891087950875897856</td>\n",
       "      <td>NaN</td>\n",
       "      <td>NaN</td>\n",
       "      <td>2017-07-29 00:08:17 +0000</td>\n",
       "      <td>&lt;a href=\"http://twitter.com/download/iphone\" r...</td>\n",
       "      <td>Here we have a majestic great white breaching ...</td>\n",
       "      <td>NaN</td>\n",
       "      <td>NaN</td>\n",
       "      <td>NaN</td>\n",
       "      <td>https://twitter.com/dog_rates/status/891087950...</td>\n",
       "      <td>13</td>\n",
       "      <td>10</td>\n",
       "      <td>None</td>\n",
       "      <td>None</td>\n",
       "      <td>None</td>\n",
       "      <td>None</td>\n",
       "      <td>None</td>\n",
       "    </tr>\n",
       "    <tr>\n",
       "      <th>6</th>\n",
       "      <td>890971913173991426</td>\n",
       "      <td>NaN</td>\n",
       "      <td>NaN</td>\n",
       "      <td>2017-07-28 16:27:12 +0000</td>\n",
       "      <td>&lt;a href=\"http://twitter.com/download/iphone\" r...</td>\n",
       "      <td>Meet Jax. He enjoys ice cream so much he gets ...</td>\n",
       "      <td>NaN</td>\n",
       "      <td>NaN</td>\n",
       "      <td>NaN</td>\n",
       "      <td>NaN</td>\n",
       "      <td>NaN</td>\n",
       "      <td>NaN</td>\n",
       "      <td>NaN</td>\n",
       "      <td>NaN</td>\n",
       "      <td>NaN</td>\n",
       "      <td>NaN</td>\n",
       "      <td>NaN</td>\n",
       "    </tr>\n",
       "    <tr>\n",
       "      <th>7</th>\n",
       "      <td>NaN</td>\n",
       "      <td>NaN</td>\n",
       "      <td>NaN</td>\n",
       "      <td>NaN</td>\n",
       "      <td>NaN</td>\n",
       "      <td>NaN</td>\n",
       "      <td>NaN</td>\n",
       "      <td>NaN</td>\n",
       "      <td>NaN</td>\n",
       "      <td>NaN</td>\n",
       "      <td>NaN</td>\n",
       "      <td>NaN</td>\n",
       "      <td>NaN</td>\n",
       "      <td>NaN</td>\n",
       "      <td>NaN</td>\n",
       "      <td>NaN</td>\n",
       "      <td>NaN</td>\n",
       "    </tr>\n",
       "    <tr>\n",
       "      <th>8</th>\n",
       "      <td>https://t.co/Zr4hWfAs1H https://t.co/tVJBRMnhxl\"</td>\n",
       "      <td>NaN</td>\n",
       "      <td>NaN</td>\n",
       "      <td>NaN</td>\n",
       "      <td>https://gofundme.com/ydvmve-surgery-for-jax,ht...</td>\n",
       "      <td>13</td>\n",
       "      <td>10.0</td>\n",
       "      <td>Jax</td>\n",
       "      <td>None</td>\n",
       "      <td>None</td>\n",
       "      <td>None</td>\n",
       "      <td>None</td>\n",
       "      <td>NaN</td>\n",
       "      <td>NaN</td>\n",
       "      <td>NaN</td>\n",
       "      <td>NaN</td>\n",
       "      <td>NaN</td>\n",
       "    </tr>\n",
       "    <tr>\n",
       "      <th>9</th>\n",
       "      <td>890729181411237888</td>\n",
       "      <td>NaN</td>\n",
       "      <td>NaN</td>\n",
       "      <td>2017-07-28 00:22:40 +0000</td>\n",
       "      <td>&lt;a href=\"http://twitter.com/download/iphone\" r...</td>\n",
       "      <td>When you watch your owner call another dog a g...</td>\n",
       "      <td>NaN</td>\n",
       "      <td>NaN</td>\n",
       "      <td>NaN</td>\n",
       "      <td>https://twitter.com/dog_rates/status/890729181...</td>\n",
       "      <td>13</td>\n",
       "      <td>10</td>\n",
       "      <td>None</td>\n",
       "      <td>None</td>\n",
       "      <td>None</td>\n",
       "      <td>None</td>\n",
       "      <td>None</td>\n",
       "    </tr>\n",
       "  </tbody>\n",
       "</table>\n",
       "</div>"
      ],
      "text/plain": [
       "                                           tweet_id in_reply_to_status_id  \\\n",
       "0                                892420643555336193                   NaN   \n",
       "1                                892177421306343426                   NaN   \n",
       "2                                891815181378084864                   NaN   \n",
       "3                                891689557279858688                   NaN   \n",
       "4                                891327558926688256                   NaN   \n",
       "5                                891087950875897856                   NaN   \n",
       "6                                890971913173991426                   NaN   \n",
       "7                                               NaN                   NaN   \n",
       "8  https://t.co/Zr4hWfAs1H https://t.co/tVJBRMnhxl\"                   NaN   \n",
       "9                                890729181411237888                   NaN   \n",
       "\n",
       "  in_reply_to_user_id                  timestamp  \\\n",
       "0                 NaN  2017-08-01 16:23:56 +0000   \n",
       "1                 NaN  2017-08-01 00:17:27 +0000   \n",
       "2                 NaN  2017-07-31 00:18:03 +0000   \n",
       "3                 NaN  2017-07-30 15:58:51 +0000   \n",
       "4                 NaN  2017-07-29 16:00:24 +0000   \n",
       "5                 NaN  2017-07-29 00:08:17 +0000   \n",
       "6                 NaN  2017-07-28 16:27:12 +0000   \n",
       "7                 NaN                        NaN   \n",
       "8                 NaN                        NaN   \n",
       "9                 NaN  2017-07-28 00:22:40 +0000   \n",
       "\n",
       "                                              source  \\\n",
       "0  <a href=\"http://twitter.com/download/iphone\" r...   \n",
       "1  <a href=\"http://twitter.com/download/iphone\" r...   \n",
       "2  <a href=\"http://twitter.com/download/iphone\" r...   \n",
       "3  <a href=\"http://twitter.com/download/iphone\" r...   \n",
       "4  <a href=\"http://twitter.com/download/iphone\" r...   \n",
       "5  <a href=\"http://twitter.com/download/iphone\" r...   \n",
       "6  <a href=\"http://twitter.com/download/iphone\" r...   \n",
       "7                                                NaN   \n",
       "8  https://gofundme.com/ydvmve-surgery-for-jax,ht...   \n",
       "9  <a href=\"http://twitter.com/download/iphone\" r...   \n",
       "\n",
       "                                                text  retweeted_status_id  \\\n",
       "0  This is Phineas. He's a mystical boy. Only eve...                  NaN   \n",
       "1  This is Tilly. She's just checking pup on you....                  NaN   \n",
       "2  This is Archie. He is a rare Norwegian Pouncin...                  NaN   \n",
       "3  This is Darla. She commenced a snooze mid meal...                  NaN   \n",
       "4  This is Franklin. He would like you to stop ca...                  NaN   \n",
       "5  Here we have a majestic great white breaching ...                  NaN   \n",
       "6  Meet Jax. He enjoys ice cream so much he gets ...                  NaN   \n",
       "7                                                NaN                  NaN   \n",
       "8                                                 13                 10.0   \n",
       "9  When you watch your owner call another dog a g...                  NaN   \n",
       "\n",
       "  retweeted_status_user_id retweeted_status_timestamp  \\\n",
       "0                      NaN                        NaN   \n",
       "1                      NaN                        NaN   \n",
       "2                      NaN                        NaN   \n",
       "3                      NaN                        NaN   \n",
       "4                      NaN                        NaN   \n",
       "5                      NaN                        NaN   \n",
       "6                      NaN                        NaN   \n",
       "7                      NaN                        NaN   \n",
       "8                      Jax                       None   \n",
       "9                      NaN                        NaN   \n",
       "\n",
       "                                       expanded_urls rating_numerator  \\\n",
       "0  https://twitter.com/dog_rates/status/892420643...               13   \n",
       "1  https://twitter.com/dog_rates/status/892177421...               13   \n",
       "2  https://twitter.com/dog_rates/status/891815181...               12   \n",
       "3  https://twitter.com/dog_rates/status/891689557...               13   \n",
       "4  https://twitter.com/dog_rates/status/891327558...               12   \n",
       "5  https://twitter.com/dog_rates/status/891087950...               13   \n",
       "6                                                NaN              NaN   \n",
       "7                                                NaN              NaN   \n",
       "8                                               None             None   \n",
       "9  https://twitter.com/dog_rates/status/890729181...               13   \n",
       "\n",
       "  rating_denominator      name doggo floofer pupper puppo  \n",
       "0                 10   Phineas  None    None   None  None  \n",
       "1                 10     Tilly  None    None   None  None  \n",
       "2                 10    Archie  None    None   None  None  \n",
       "3                 10     Darla  None    None   None  None  \n",
       "4                 10  Franklin  None    None   None  None  \n",
       "5                 10      None  None    None   None  None  \n",
       "6                NaN       NaN   NaN     NaN    NaN   NaN  \n",
       "7                NaN       NaN   NaN     NaN    NaN   NaN  \n",
       "8               None       NaN   NaN     NaN    NaN   NaN  \n",
       "9                 10      None  None    None   None  None  "
      ]
     },
     "execution_count": 97,
     "metadata": {},
     "output_type": "execute_result"
    }
   ],
   "source": [
    "twitter_archive_raw.head(10)"
   ]
  },
  {
   "cell_type": "markdown",
   "metadata": {},
   "source": [
    "Quality issues:\n",
    "    1.\tRetweets are there which is to be discarded as we require only original tweets.\n",
    "    2.\t.Tweets id in twitter_archive has blank values and unneeded values.\n",
    "    3.\tSome rating are wrong with abnormal values.\n",
    "    4.\tIdentifying wrong names of dogs\n",
    "    5.\tTime stamp has wrong datatype\n",
    "    6.\tUnnecessary column in twitter archive dataframe\n",
    "    7.\tSource column of twitter archive has redundant details \n",
    "    8.\tMultiple  stages like doggo and  puppo are mentioned for single dog observation.\n"
   ]
  },
  {
   "cell_type": "markdown",
   "metadata": {},
   "source": [
    "TIDINESS issue:\n",
    "1.   twitter_ archive needs details of retweet and favourite which is present in status dataframe and imageprediction for correlation during analysis.\n",
    "2.   Four different variable dogs pupper ,puppo,floofer and doggo is made to represent single variable stage\n",
    "3.    prediction breed variable is not completely determined from other column of dog in image_prediction\n"
   ]
  },
  {
   "cell_type": "markdown",
   "metadata": {},
   "source": [
    "# CLEANING "
   ]
  },
  {
   "cell_type": "markdown",
   "metadata": {},
   "source": [
    "Cleaning has to be done for 8 Quality issues and 2 tidy issues .\n",
    "\n"
   ]
  },
  {
   "cell_type": "markdown",
   "metadata": {},
   "source": [
    "# Qualityissue 1:- Retweets to be discarded as we require only original tweets."
   ]
  },
  {
   "cell_type": "markdown",
   "metadata": {},
   "source": [
    "## Define:"
   ]
  },
  {
   "cell_type": "markdown",
   "metadata": {},
   "source": [
    "Drop columns related to retweet  such as retweeted_status_id, retweeted_status_user_id and retweeted_status_timestamp\n"
   ]
  },
  {
   "cell_type": "markdown",
   "metadata": {},
   "source": [
    "## code:"
   ]
  },
  {
   "cell_type": "code",
   "execution_count": 57,
   "metadata": {},
   "outputs": [],
   "source": [
    "twitter_archive=twitter_archive_raw.copy()\n",
    "twitter_archive_clean=twitter_archive[twitter_archive.retweeted_status_id.isnull()]\n",
    "twitter_archive_clean=twitter_archive_clean.drop(['retweeted_status_id','retweeted_status_user_id','retweeted_status_timestamp'],axis=1)\n"
   ]
  },
  {
   "cell_type": "markdown",
   "metadata": {},
   "source": [
    "## Test:"
   ]
  },
  {
   "cell_type": "code",
   "execution_count": 58,
   "metadata": {},
   "outputs": [
    {
     "name": "stdout",
     "output_type": "stream",
     "text": [
      "<class 'pandas.core.frame.DataFrame'>\n",
      "Int64Index: 2256 entries, 0 to 2516\n",
      "Data columns (total 14 columns):\n",
      "tweet_id                 2206 non-null object\n",
      "in_reply_to_status_id    79 non-null object\n",
      "in_reply_to_user_id      79 non-null object\n",
      "timestamp                2191 non-null object\n",
      "source                   2191 non-null object\n",
      "text                     2190 non-null object\n",
      "expanded_urls            2042 non-null object\n",
      "rating_numerator         2095 non-null object\n",
      "rating_denominator       2095 non-null object\n",
      "name                     2095 non-null object\n",
      "doggo                    2095 non-null object\n",
      "floofer                  2095 non-null object\n",
      "pupper                   2095 non-null object\n",
      "puppo                    2095 non-null object\n",
      "dtypes: object(14)\n",
      "memory usage: 264.4+ KB\n"
     ]
    }
   ],
   "source": [
    "twitter_archive_clean.info()"
   ]
  },
  {
   "cell_type": "markdown",
   "metadata": {},
   "source": [
    "# Quality Issue 2 : Tweets id in twitter_archive has blank values and unneeded values.\n"
   ]
  },
  {
   "cell_type": "markdown",
   "metadata": {},
   "source": [
    "##  Define:"
   ]
  },
  {
   "cell_type": "markdown",
   "metadata": {},
   "source": [
    "Drop rows with blank tweet ids and also duplicate tweet ids"
   ]
  },
  {
   "cell_type": "markdown",
   "metadata": {},
   "source": [
    "## code:"
   ]
  },
  {
   "cell_type": "code",
   "execution_count": 59,
   "metadata": {},
   "outputs": [],
   "source": [
    "twitter_archive_clean.dropna(subset=['tweet_id'])\n",
    "twitter_archive_clean=twitter_archive_clean.drop_duplicates(subset=['tweet_id'])\n"
   ]
  },
  {
   "cell_type": "markdown",
   "metadata": {},
   "source": [
    "## Test:"
   ]
  },
  {
   "cell_type": "code",
   "execution_count": 60,
   "metadata": {},
   "outputs": [
    {
     "name": "stdout",
     "output_type": "stream",
     "text": [
      "<class 'pandas.core.frame.DataFrame'>\n",
      "Int64Index: 2204 entries, 0 to 2516\n",
      "Data columns (total 14 columns):\n",
      "tweet_id                 2203 non-null object\n",
      "in_reply_to_status_id    79 non-null object\n",
      "in_reply_to_user_id      79 non-null object\n",
      "timestamp                2191 non-null object\n",
      "source                   2191 non-null object\n",
      "text                     2190 non-null object\n",
      "expanded_urls            2042 non-null object\n",
      "rating_numerator         2095 non-null object\n",
      "rating_denominator       2095 non-null object\n",
      "name                     2095 non-null object\n",
      "doggo                    2095 non-null object\n",
      "floofer                  2095 non-null object\n",
      "pupper                   2095 non-null object\n",
      "puppo                    2095 non-null object\n",
      "dtypes: object(14)\n",
      "memory usage: 258.3+ KB\n"
     ]
    }
   ],
   "source": [
    "\n",
    "twitter_archive_clean.info()"
   ]
  },
  {
   "cell_type": "markdown",
   "metadata": {},
   "source": [
    "ratings_ratio is calculated by dividing rating_numerator and rating_denominator."
   ]
  },
  {
   "cell_type": "code",
   "execution_count": 61,
   "metadata": {},
   "outputs": [],
   "source": [
    "twitter_archive_clean['rating_numerator']=pd.to_numeric(twitter_archive_clean['rating_numerator'])\n",
    "twitter_archive_clean['rating_denominator']=pd.to_numeric(twitter_archive_clean['rating_denominator'])\n",
    "twitter_archive_clean['rating_ratio']=twitter_archive_clean['rating_numerator']/twitter_archive_clean['rating_denominator']"
   ]
  },
  {
   "cell_type": "markdown",
   "metadata": {},
   "source": [
    "# Quality Issue 3 : Some rating are wrong with abnormal values."
   ]
  },
  {
   "cell_type": "code",
   "execution_count": 62,
   "metadata": {},
   "outputs": [
    {
     "data": {
      "text/plain": [
       "1.200000      483\n",
       "1.000000      429\n",
       "1.100000      422\n",
       "1.300000      281\n",
       "0.900000      153\n",
       "0.800000       97\n",
       "0.700000       53\n",
       "1.400000       41\n",
       "0.500000       36\n",
       "0.600000       32\n",
       "0.300000       19\n",
       "0.400000       15\n",
       "0.200000       11\n",
       "0.100000        7\n",
       "0.000000        2\n",
       "2.600000        1\n",
       "2.700000        1\n",
       "0.733333        1\n",
       "0.818182        1\n",
       "0.636364        1\n",
       "1.700000        1\n",
       "177.600000      1\n",
       "1.250000        1\n",
       "7.500000        1\n",
       "inf             1\n",
       "1.500000        1\n",
       "42.000000       1\n",
       "66.600000       1\n",
       "18.200000       1\n",
       "Name: rating_ratio, dtype: int64"
      ]
     },
     "execution_count": 62,
     "metadata": {},
     "output_type": "execute_result"
    }
   ],
   "source": [
    "twitter_archive_clean.rating_ratio.value_counts()"
   ]
  },
  {
   "cell_type": "markdown",
   "metadata": {},
   "source": [
    "## Define"
   ]
  },
  {
   "cell_type": "markdown",
   "metadata": {},
   "source": [
    "Drop extreme outlier values of ratings ratio on both sides\n",
    "the rating numerators greater than the denominators are also included .Only rating_ratio with minimum occurence is removed"
   ]
  },
  {
   "cell_type": "markdown",
   "metadata": {},
   "source": [
    "## code:"
   ]
  },
  {
   "cell_type": "code",
   "execution_count": 63,
   "metadata": {},
   "outputs": [],
   "source": [
    "\n",
    "twitter_archive_clean = twitter_archive_clean[twitter_archive_clean['rating_ratio']< 1.5]\n",
    "twitter_archive_clean = twitter_archive_clean[twitter_archive_clean['rating_ratio']> 0.2]\n",
    "\n"
   ]
  },
  {
   "cell_type": "markdown",
   "metadata": {},
   "source": [
    "## Test:"
   ]
  },
  {
   "cell_type": "code",
   "execution_count": 64,
   "metadata": {},
   "outputs": [
    {
     "data": {
      "text/plain": [
       "1.200000    483\n",
       "1.000000    429\n",
       "1.100000    422\n",
       "1.300000    281\n",
       "0.900000    153\n",
       "0.800000     97\n",
       "0.700000     53\n",
       "1.400000     41\n",
       "0.500000     36\n",
       "0.600000     32\n",
       "0.300000     19\n",
       "0.400000     15\n",
       "0.818182      1\n",
       "0.733333      1\n",
       "0.636364      1\n",
       "1.250000      1\n",
       "Name: rating_ratio, dtype: int64"
      ]
     },
     "execution_count": 64,
     "metadata": {},
     "output_type": "execute_result"
    }
   ],
   "source": [
    "twitter_archive_clean.rating_ratio.value_counts()"
   ]
  },
  {
   "cell_type": "markdown",
   "metadata": {},
   "source": [
    "## Quality Issue 4 : wrong names of dogs "
   ]
  },
  {
   "cell_type": "markdown",
   "metadata": {},
   "source": [
    "## Define:"
   ]
  },
  {
   "cell_type": "markdown",
   "metadata": {},
   "source": [
    "  All wrong names of dogs has lowercase letters and using it replacing with 'NaN'in twitter_archive"
   ]
  },
  {
   "cell_type": "markdown",
   "metadata": {},
   "source": [
    "## code:"
   ]
  },
  {
   "cell_type": "code",
   "execution_count": 65,
   "metadata": {
    "scrolled": false
   },
   "outputs": [],
   "source": [
    "twitter_archive_clean.loc[twitter_archive_clean.name.str.islower(),'name']='None'\n",
    "twitter_archive_clean.name=twitter_archive_clean.name.replace('None',np.nan)"
   ]
  },
  {
   "cell_type": "markdown",
   "metadata": {},
   "source": [
    "## test:"
   ]
  },
  {
   "cell_type": "code",
   "execution_count": 66,
   "metadata": {},
   "outputs": [
    {
     "data": {
      "text/plain": [
       "Lucy         11\n",
       "Charlie      11\n",
       "Tucker        9\n",
       "Penny         9\n",
       "Oliver        9\n",
       "Cooper        9\n",
       "Sadie         8\n",
       "Winston       8\n",
       "Toby          7\n",
       "Lola          7\n",
       "Bailey        6\n",
       "Stanley       6\n",
       "Daisy         6\n",
       "Koda          6\n",
       "Bo            6\n",
       "Oscar         6\n",
       "Rusty         5\n",
       "Buddy         5\n",
       "Leo           5\n",
       "Louis         5\n",
       "Milo          5\n",
       "Scout         5\n",
       "Jax           5\n",
       "Chester       5\n",
       "Dave          5\n",
       "Bentley       5\n",
       "Bella         5\n",
       "Reggie        4\n",
       "Jeffrey       4\n",
       "Dexter        4\n",
       "             ..\n",
       "Hamrick       1\n",
       "Jiminus       1\n",
       "Suki          1\n",
       "Tonks         1\n",
       "Tug           1\n",
       "Leonard       1\n",
       "Iroh          1\n",
       "Astrid        1\n",
       "Odin          1\n",
       "Stormy        1\n",
       "Ruffles       1\n",
       "Dante         1\n",
       "Brutus        1\n",
       "Kayla         1\n",
       "Lucky         1\n",
       "Brockly       1\n",
       "Aiden         1\n",
       "Tom           1\n",
       "Bobb          1\n",
       "Tobi          1\n",
       "Miley         1\n",
       "Lulu          1\n",
       "Bowie         1\n",
       "Shadoe        1\n",
       "Timber        1\n",
       "Jockson       1\n",
       "Kathmandu     1\n",
       "Gustaf        1\n",
       "Betty         1\n",
       "Goose         1\n",
       "Name: name, Length: 915, dtype: int64"
      ]
     },
     "execution_count": 66,
     "metadata": {},
     "output_type": "execute_result"
    }
   ],
   "source": [
    "twitter_archive_clean.name.value_counts()"
   ]
  },
  {
   "cell_type": "markdown",
   "metadata": {},
   "source": [
    "## Quality Issue 5 : wrong datatype of datetime"
   ]
  },
  {
   "cell_type": "markdown",
   "metadata": {},
   "source": [
    "## Define:"
   ]
  },
  {
   "cell_type": "markdown",
   "metadata": {},
   "source": [
    "convert the timestamp to datetime datatype in twitter_archive"
   ]
  },
  {
   "cell_type": "markdown",
   "metadata": {},
   "source": [
    "## code:"
   ]
  },
  {
   "cell_type": "code",
   "execution_count": 67,
   "metadata": {},
   "outputs": [],
   "source": [
    "twitter_archive_clean.timestamp=pd.to_datetime(twitter_archive_clean.timestamp)\n"
   ]
  },
  {
   "cell_type": "markdown",
   "metadata": {},
   "source": [
    "## test:"
   ]
  },
  {
   "cell_type": "code",
   "execution_count": 68,
   "metadata": {},
   "outputs": [
    {
     "data": {
      "text/html": [
       "<div>\n",
       "<style>\n",
       "    .dataframe thead tr:only-child th {\n",
       "        text-align: right;\n",
       "    }\n",
       "\n",
       "    .dataframe thead th {\n",
       "        text-align: left;\n",
       "    }\n",
       "\n",
       "    .dataframe tbody tr th {\n",
       "        vertical-align: top;\n",
       "    }\n",
       "</style>\n",
       "<table border=\"1\" class=\"dataframe\">\n",
       "  <thead>\n",
       "    <tr style=\"text-align: right;\">\n",
       "      <th></th>\n",
       "      <th>tweet_id</th>\n",
       "      <th>in_reply_to_status_id</th>\n",
       "      <th>in_reply_to_user_id</th>\n",
       "      <th>timestamp</th>\n",
       "      <th>source</th>\n",
       "      <th>text</th>\n",
       "      <th>expanded_urls</th>\n",
       "      <th>rating_numerator</th>\n",
       "      <th>rating_denominator</th>\n",
       "      <th>name</th>\n",
       "      <th>doggo</th>\n",
       "      <th>floofer</th>\n",
       "      <th>pupper</th>\n",
       "      <th>puppo</th>\n",
       "      <th>rating_ratio</th>\n",
       "    </tr>\n",
       "  </thead>\n",
       "  <tbody>\n",
       "    <tr>\n",
       "      <th>0</th>\n",
       "      <td>892420643555336193</td>\n",
       "      <td>NaN</td>\n",
       "      <td>NaN</td>\n",
       "      <td>2017-08-01 16:23:56</td>\n",
       "      <td>&lt;a href=\"http://twitter.com/download/iphone\" r...</td>\n",
       "      <td>This is Phineas. He's a mystical boy. Only eve...</td>\n",
       "      <td>https://twitter.com/dog_rates/status/892420643...</td>\n",
       "      <td>13.0</td>\n",
       "      <td>10.0</td>\n",
       "      <td>Phineas</td>\n",
       "      <td>None</td>\n",
       "      <td>None</td>\n",
       "      <td>None</td>\n",
       "      <td>None</td>\n",
       "      <td>1.3</td>\n",
       "    </tr>\n",
       "    <tr>\n",
       "      <th>1</th>\n",
       "      <td>892177421306343426</td>\n",
       "      <td>NaN</td>\n",
       "      <td>NaN</td>\n",
       "      <td>2017-08-01 00:17:27</td>\n",
       "      <td>&lt;a href=\"http://twitter.com/download/iphone\" r...</td>\n",
       "      <td>This is Tilly. She's just checking pup on you....</td>\n",
       "      <td>https://twitter.com/dog_rates/status/892177421...</td>\n",
       "      <td>13.0</td>\n",
       "      <td>10.0</td>\n",
       "      <td>Tilly</td>\n",
       "      <td>None</td>\n",
       "      <td>None</td>\n",
       "      <td>None</td>\n",
       "      <td>None</td>\n",
       "      <td>1.3</td>\n",
       "    </tr>\n",
       "    <tr>\n",
       "      <th>2</th>\n",
       "      <td>891815181378084864</td>\n",
       "      <td>NaN</td>\n",
       "      <td>NaN</td>\n",
       "      <td>2017-07-31 00:18:03</td>\n",
       "      <td>&lt;a href=\"http://twitter.com/download/iphone\" r...</td>\n",
       "      <td>This is Archie. He is a rare Norwegian Pouncin...</td>\n",
       "      <td>https://twitter.com/dog_rates/status/891815181...</td>\n",
       "      <td>12.0</td>\n",
       "      <td>10.0</td>\n",
       "      <td>Archie</td>\n",
       "      <td>None</td>\n",
       "      <td>None</td>\n",
       "      <td>None</td>\n",
       "      <td>None</td>\n",
       "      <td>1.2</td>\n",
       "    </tr>\n",
       "    <tr>\n",
       "      <th>3</th>\n",
       "      <td>891689557279858688</td>\n",
       "      <td>NaN</td>\n",
       "      <td>NaN</td>\n",
       "      <td>2017-07-30 15:58:51</td>\n",
       "      <td>&lt;a href=\"http://twitter.com/download/iphone\" r...</td>\n",
       "      <td>This is Darla. She commenced a snooze mid meal...</td>\n",
       "      <td>https://twitter.com/dog_rates/status/891689557...</td>\n",
       "      <td>13.0</td>\n",
       "      <td>10.0</td>\n",
       "      <td>Darla</td>\n",
       "      <td>None</td>\n",
       "      <td>None</td>\n",
       "      <td>None</td>\n",
       "      <td>None</td>\n",
       "      <td>1.3</td>\n",
       "    </tr>\n",
       "    <tr>\n",
       "      <th>4</th>\n",
       "      <td>891327558926688256</td>\n",
       "      <td>NaN</td>\n",
       "      <td>NaN</td>\n",
       "      <td>2017-07-29 16:00:24</td>\n",
       "      <td>&lt;a href=\"http://twitter.com/download/iphone\" r...</td>\n",
       "      <td>This is Franklin. He would like you to stop ca...</td>\n",
       "      <td>https://twitter.com/dog_rates/status/891327558...</td>\n",
       "      <td>12.0</td>\n",
       "      <td>10.0</td>\n",
       "      <td>Franklin</td>\n",
       "      <td>None</td>\n",
       "      <td>None</td>\n",
       "      <td>None</td>\n",
       "      <td>None</td>\n",
       "      <td>1.2</td>\n",
       "    </tr>\n",
       "    <tr>\n",
       "      <th>5</th>\n",
       "      <td>891087950875897856</td>\n",
       "      <td>NaN</td>\n",
       "      <td>NaN</td>\n",
       "      <td>2017-07-29 00:08:17</td>\n",
       "      <td>&lt;a href=\"http://twitter.com/download/iphone\" r...</td>\n",
       "      <td>Here we have a majestic great white breaching ...</td>\n",
       "      <td>https://twitter.com/dog_rates/status/891087950...</td>\n",
       "      <td>13.0</td>\n",
       "      <td>10.0</td>\n",
       "      <td>NaN</td>\n",
       "      <td>None</td>\n",
       "      <td>None</td>\n",
       "      <td>None</td>\n",
       "      <td>None</td>\n",
       "      <td>1.3</td>\n",
       "    </tr>\n",
       "    <tr>\n",
       "      <th>9</th>\n",
       "      <td>890729181411237888</td>\n",
       "      <td>NaN</td>\n",
       "      <td>NaN</td>\n",
       "      <td>2017-07-28 00:22:40</td>\n",
       "      <td>&lt;a href=\"http://twitter.com/download/iphone\" r...</td>\n",
       "      <td>When you watch your owner call another dog a g...</td>\n",
       "      <td>https://twitter.com/dog_rates/status/890729181...</td>\n",
       "      <td>13.0</td>\n",
       "      <td>10.0</td>\n",
       "      <td>NaN</td>\n",
       "      <td>None</td>\n",
       "      <td>None</td>\n",
       "      <td>None</td>\n",
       "      <td>None</td>\n",
       "      <td>1.3</td>\n",
       "    </tr>\n",
       "    <tr>\n",
       "      <th>10</th>\n",
       "      <td>890609185150312448</td>\n",
       "      <td>NaN</td>\n",
       "      <td>NaN</td>\n",
       "      <td>2017-07-27 16:25:51</td>\n",
       "      <td>&lt;a href=\"http://twitter.com/download/iphone\" r...</td>\n",
       "      <td>This is Zoey. She doesn't want to be one of th...</td>\n",
       "      <td>https://twitter.com/dog_rates/status/890609185...</td>\n",
       "      <td>13.0</td>\n",
       "      <td>10.0</td>\n",
       "      <td>Zoey</td>\n",
       "      <td>None</td>\n",
       "      <td>None</td>\n",
       "      <td>None</td>\n",
       "      <td>None</td>\n",
       "      <td>1.3</td>\n",
       "    </tr>\n",
       "    <tr>\n",
       "      <th>11</th>\n",
       "      <td>890240255349198849</td>\n",
       "      <td>NaN</td>\n",
       "      <td>NaN</td>\n",
       "      <td>2017-07-26 15:59:51</td>\n",
       "      <td>&lt;a href=\"http://twitter.com/download/iphone\" r...</td>\n",
       "      <td>This is Cassie. She is a college pup. Studying...</td>\n",
       "      <td>https://twitter.com/dog_rates/status/890240255...</td>\n",
       "      <td>14.0</td>\n",
       "      <td>10.0</td>\n",
       "      <td>Cassie</td>\n",
       "      <td>doggo</td>\n",
       "      <td>None</td>\n",
       "      <td>None</td>\n",
       "      <td>None</td>\n",
       "      <td>1.4</td>\n",
       "    </tr>\n",
       "    <tr>\n",
       "      <th>12</th>\n",
       "      <td>890006608113172480</td>\n",
       "      <td>NaN</td>\n",
       "      <td>NaN</td>\n",
       "      <td>2017-07-26 00:31:25</td>\n",
       "      <td>&lt;a href=\"http://twitter.com/download/iphone\" r...</td>\n",
       "      <td>This is Koda. He is a South Australian decksha...</td>\n",
       "      <td>https://twitter.com/dog_rates/status/890006608...</td>\n",
       "      <td>13.0</td>\n",
       "      <td>10.0</td>\n",
       "      <td>Koda</td>\n",
       "      <td>None</td>\n",
       "      <td>None</td>\n",
       "      <td>None</td>\n",
       "      <td>None</td>\n",
       "      <td>1.3</td>\n",
       "    </tr>\n",
       "  </tbody>\n",
       "</table>\n",
       "</div>"
      ],
      "text/plain": [
       "              tweet_id in_reply_to_status_id in_reply_to_user_id  \\\n",
       "0   892420643555336193                   NaN                 NaN   \n",
       "1   892177421306343426                   NaN                 NaN   \n",
       "2   891815181378084864                   NaN                 NaN   \n",
       "3   891689557279858688                   NaN                 NaN   \n",
       "4   891327558926688256                   NaN                 NaN   \n",
       "5   891087950875897856                   NaN                 NaN   \n",
       "9   890729181411237888                   NaN                 NaN   \n",
       "10  890609185150312448                   NaN                 NaN   \n",
       "11  890240255349198849                   NaN                 NaN   \n",
       "12  890006608113172480                   NaN                 NaN   \n",
       "\n",
       "             timestamp                                             source  \\\n",
       "0  2017-08-01 16:23:56  <a href=\"http://twitter.com/download/iphone\" r...   \n",
       "1  2017-08-01 00:17:27  <a href=\"http://twitter.com/download/iphone\" r...   \n",
       "2  2017-07-31 00:18:03  <a href=\"http://twitter.com/download/iphone\" r...   \n",
       "3  2017-07-30 15:58:51  <a href=\"http://twitter.com/download/iphone\" r...   \n",
       "4  2017-07-29 16:00:24  <a href=\"http://twitter.com/download/iphone\" r...   \n",
       "5  2017-07-29 00:08:17  <a href=\"http://twitter.com/download/iphone\" r...   \n",
       "9  2017-07-28 00:22:40  <a href=\"http://twitter.com/download/iphone\" r...   \n",
       "10 2017-07-27 16:25:51  <a href=\"http://twitter.com/download/iphone\" r...   \n",
       "11 2017-07-26 15:59:51  <a href=\"http://twitter.com/download/iphone\" r...   \n",
       "12 2017-07-26 00:31:25  <a href=\"http://twitter.com/download/iphone\" r...   \n",
       "\n",
       "                                                 text  \\\n",
       "0   This is Phineas. He's a mystical boy. Only eve...   \n",
       "1   This is Tilly. She's just checking pup on you....   \n",
       "2   This is Archie. He is a rare Norwegian Pouncin...   \n",
       "3   This is Darla. She commenced a snooze mid meal...   \n",
       "4   This is Franklin. He would like you to stop ca...   \n",
       "5   Here we have a majestic great white breaching ...   \n",
       "9   When you watch your owner call another dog a g...   \n",
       "10  This is Zoey. She doesn't want to be one of th...   \n",
       "11  This is Cassie. She is a college pup. Studying...   \n",
       "12  This is Koda. He is a South Australian decksha...   \n",
       "\n",
       "                                        expanded_urls  rating_numerator  \\\n",
       "0   https://twitter.com/dog_rates/status/892420643...              13.0   \n",
       "1   https://twitter.com/dog_rates/status/892177421...              13.0   \n",
       "2   https://twitter.com/dog_rates/status/891815181...              12.0   \n",
       "3   https://twitter.com/dog_rates/status/891689557...              13.0   \n",
       "4   https://twitter.com/dog_rates/status/891327558...              12.0   \n",
       "5   https://twitter.com/dog_rates/status/891087950...              13.0   \n",
       "9   https://twitter.com/dog_rates/status/890729181...              13.0   \n",
       "10  https://twitter.com/dog_rates/status/890609185...              13.0   \n",
       "11  https://twitter.com/dog_rates/status/890240255...              14.0   \n",
       "12  https://twitter.com/dog_rates/status/890006608...              13.0   \n",
       "\n",
       "    rating_denominator      name  doggo floofer pupper puppo  rating_ratio  \n",
       "0                 10.0   Phineas   None    None   None  None           1.3  \n",
       "1                 10.0     Tilly   None    None   None  None           1.3  \n",
       "2                 10.0    Archie   None    None   None  None           1.2  \n",
       "3                 10.0     Darla   None    None   None  None           1.3  \n",
       "4                 10.0  Franklin   None    None   None  None           1.2  \n",
       "5                 10.0       NaN   None    None   None  None           1.3  \n",
       "9                 10.0       NaN   None    None   None  None           1.3  \n",
       "10                10.0      Zoey   None    None   None  None           1.3  \n",
       "11                10.0    Cassie  doggo    None   None  None           1.4  \n",
       "12                10.0      Koda   None    None   None  None           1.3  "
      ]
     },
     "execution_count": 68,
     "metadata": {},
     "output_type": "execute_result"
    }
   ],
   "source": [
    "twitter_archive_clean.head(10)"
   ]
  },
  {
   "cell_type": "markdown",
   "metadata": {},
   "source": [
    "## Quality Issue 6 : Dropping the unnecessary column in the twitter archive."
   ]
  },
  {
   "cell_type": "markdown",
   "metadata": {},
   "source": [
    "## Define:"
   ]
  },
  {
   "cell_type": "markdown",
   "metadata": {},
   "source": [
    "Drop unnecessary column in_reply_to_status_id', 'in_reply_to_user_id' with Nan values "
   ]
  },
  {
   "cell_type": "markdown",
   "metadata": {},
   "source": [
    "## code:"
   ]
  },
  {
   "cell_type": "code",
   "execution_count": 69,
   "metadata": {},
   "outputs": [],
   "source": [
    "twitter_archive_clean.drop(['in_reply_to_status_id', 'in_reply_to_user_id'], axis=1, inplace=True)\n"
   ]
  },
  {
   "cell_type": "markdown",
   "metadata": {},
   "source": [
    "# test:"
   ]
  },
  {
   "cell_type": "code",
   "execution_count": 70,
   "metadata": {},
   "outputs": [
    {
     "name": "stdout",
     "output_type": "stream",
     "text": [
      "Index(['tweet_id', 'timestamp', 'source', 'text', 'expanded_urls',\n",
      "       'rating_numerator', 'rating_denominator', 'name', 'doggo', 'floofer',\n",
      "       'pupper', 'puppo', 'rating_ratio'],\n",
      "      dtype='object')\n"
     ]
    }
   ],
   "source": [
    "print(twitter_archive_clean.columns)"
   ]
  },
  {
   "cell_type": "markdown",
   "metadata": {},
   "source": [
    "## Quality Issue 7: Source column of twitter archive has redundant details"
   ]
  },
  {
   "cell_type": "markdown",
   "metadata": {},
   "source": [
    "## Define:"
   ]
  },
  {
   "cell_type": "markdown",
   "metadata": {},
   "source": [
    "Remove the unnecessary part of string in the source column of twitter archive"
   ]
  },
  {
   "cell_type": "markdown",
   "metadata": {},
   "source": [
    "## code:"
   ]
  },
  {
   "cell_type": "code",
   "execution_count": 71,
   "metadata": {},
   "outputs": [],
   "source": [
    "\n",
    "twitter_archive_clean[\"source\"].replace('<a href=\"http://twitter.com/download/iphone\" rel=\"nofollow\">Twitter for iPhone</a>', 'Twitter for iPhone', inplace=True)\n",
    "twitter_archive_clean[\"source\"].replace('<a href=\"http://vine.co\" rel=\"nofollow\">Vine - Make a Scene</a>', 'Make a Scene', inplace=True)\n",
    "twitter_archive_clean[\"source\"].replace('<a href=\"http://twitter.com\" rel=\"nofollow\">Twitter Web Client</a>', 'Twitter Web Client', inplace=True)\n",
    "twitter_archive_clean[\"source\"].replace('<a href=\"https://about.twitter.com/products/tweetdeck\" rel=\"nofollow\">TweetDeck</a>', 'TweetDeck', inplace=True)\n"
   ]
  },
  {
   "cell_type": "markdown",
   "metadata": {},
   "source": [
    "## test:"
   ]
  },
  {
   "cell_type": "code",
   "execution_count": 72,
   "metadata": {
    "scrolled": true
   },
   "outputs": [
    {
     "data": {
      "text/plain": [
       "Twitter for iPhone    1937\n",
       "Make a Scene            91\n",
       "Twitter Web Client      27\n",
       "TweetDeck               10\n",
       "Name: source, dtype: int64"
      ]
     },
     "execution_count": 72,
     "metadata": {},
     "output_type": "execute_result"
    }
   ],
   "source": [
    "twitter_archive_clean.source.value_counts()"
   ]
  },
  {
   "cell_type": "markdown",
   "metadata": {},
   "source": [
    "# Quality issue 8.Multiple stages mentioned for a single dog"
   ]
  },
  {
   "cell_type": "markdown",
   "metadata": {},
   "source": [
    "For tweetid '817777686764523521',both doggo and pupper stage is mentioned .so by using 'text' i have found that correct stage is pupper and not doggo."
   ]
  },
  {
   "cell_type": "markdown",
   "metadata": {},
   "source": [
    "Multiple stages like doggo and puppo are mentioned for single dog observation."
   ]
  },
  {
   "cell_type": "markdown",
   "metadata": {},
   "source": [
    "## Define:"
   ]
  },
  {
   "cell_type": "markdown",
   "metadata": {},
   "source": [
    "Finding the right stage of dog from the text column in given tweet id and replacing wrong column with ‘None’.when there are two stages for same observation,replace with 'None'"
   ]
  },
  {
   "cell_type": "markdown",
   "metadata": {},
   "source": [
    "## code:"
   ]
  },
  {
   "cell_type": "code",
   "execution_count": 73,
   "metadata": {},
   "outputs": [],
   "source": [
    "twitter_archive_clean.loc[twitter_archive_clean.tweet_id=='817777686764523521']\n",
    "twitter_archive_clean.loc[twitter_archive_clean.tweet_id=='817777686764523521',['doggo']]=['None']\n",
    "twitter_archive_clean.loc[twitter_archive_clean.tweet_id=='855851453814013952']\n",
    "twitter_archive_clean.loc[twitter_archive_clean.tweet_id=='855851453814013952',['doggo']]=['None']\n",
    "twitter_archive_clean.loc[twitter_archive_clean.tweet_id=='808106460588765185']\n",
    "twitter_archive_clean.loc[twitter_archive_clean.tweet_id=='808106460588765185',['doggo']]=['None']\n",
    "twitter_archive_clean.loc[twitter_archive_clean.tweet_id=='802265048156610565']\n",
    "twitter_archive_clean.loc[twitter_archive_clean.tweet_id=='802265048156610565',['pupper']]=['None']\n",
    "twitter_archive_clean.loc[twitter_archive_clean.tweet_id=='801115127852503040']\n",
    "twitter_archive_clean.loc[twitter_archive_clean.tweet_id=='801115127852503040',['pupper']]=['None']\n",
    "twitter_archive_clean.loc[twitter_archive_clean.tweet_id=='785639753186217984']\n",
    "twitter_archive_clean.loc[twitter_archive_clean.tweet_id=='785639753186217984',['pupper']]=['None']\n",
    "twitter_archive_clean.loc[twitter_archive_clean.tweet_id=='781308096455073793']\n",
    "twitter_archive_clean.loc[twitter_archive_clean.tweet_id=='781308096455073793',['doggo']]=['None']\n",
    "twitter_archive_clean.loc[twitter_archive_clean.tweet_id=='759793422261743616']\n",
    "twitter_archive_clean.loc[twitter_archive_clean.tweet_id=='759793422261743616',['pupper']]=['None']\n",
    "twitter_archive_clean.loc[twitter_archive_clean.tweet_id=='751583847268179968']\n",
    "twitter_archive_clean.loc[twitter_archive_clean.tweet_id=='751583847268179968',['pupper']]=['None']\n",
    "twitter_archive_clean.loc[twitter_archive_clean.tweet_id=='751583847268179968',['doggo']]=['None']\n",
    "twitter_archive_clean.loc[twitter_archive_clean.tweet_id=='741067306818797568']\n",
    "twitter_archive_clean.loc[twitter_archive_clean.tweet_id=='741067306818797568',['pupper']]=['None']\n",
    "twitter_archive_clean.loc[twitter_archive_clean.tweet_id=='741067306818797568',['doggo']]=['None']\n",
    "twitter_archive_clean.loc[twitter_archive_clean.tweet_id=='733109485275860992']\n",
    "twitter_archive_clean.loc[twitter_archive_clean.tweet_id=='733109485275860992',['pupper']]=['None']\n",
    "twitter_archive_clean.loc[twitter_archive_clean.tweet_id=='733109485275860992',['doggo']]=['None']\n",
    "twitter_archive_clean.loc[twitter_archive_clean.tweet_id=='854010172552949760']\n",
    "twitter_archive_clean.loc[twitter_archive_clean.tweet_id=='854010172552949760',['floofer']]=['None']\n"
   ]
  },
  {
   "cell_type": "markdown",
   "metadata": {},
   "source": [
    "## test:"
   ]
  },
  {
   "cell_type": "code",
   "execution_count": 74,
   "metadata": {},
   "outputs": [
    {
     "name": "stdout",
     "output_type": "stream",
     "text": [
      "               tweet_id           timestamp              source  \\\n",
      "534  817777686764523521 2017-01-07 16:59:28  Twitter for iPhone   \n",
      "\n",
      "                                                  text  \\\n",
      "534  This is Dido. She's playing the lead role in \"...   \n",
      "\n",
      "                                         expanded_urls  rating_numerator  \\\n",
      "534  https://twitter.com/dog_rates/status/817777686...              13.0   \n",
      "\n",
      "     rating_denominator  name doggo floofer  pupper puppo  rating_ratio  \n",
      "534                10.0  Dido  None    None  pupper  None           1.3  \n"
     ]
    }
   ],
   "source": [
    "print(twitter_archive_clean.loc[twitter_archive_clean.tweet_id=='817777686764523521'])\n"
   ]
  },
  {
   "cell_type": "markdown",
   "metadata": {},
   "source": [
    "# TIDINESS"
   ]
  },
  {
   "cell_type": "markdown",
   "metadata": {},
   "source": [
    "## Tidiness issue1: Four different variable  represent single variable ."
   ]
  },
  {
   "cell_type": "markdown",
   "metadata": {},
   "source": [
    "Four different variable  pupper ,puppo,floofer and doggo is made to represent single variable stage."
   ]
  },
  {
   "cell_type": "markdown",
   "metadata": {},
   "source": [
    "## Define: "
   ]
  },
  {
   "cell_type": "markdown",
   "metadata": {},
   "source": [
    "merging of four columns'doggo','floofer','pupper' and 'puppo' in the twitter archive in to single column 'stage' to reduce redundancy of display of data ."
   ]
  },
  {
   "cell_type": "markdown",
   "metadata": {},
   "source": [
    "## code:"
   ]
  },
  {
   "cell_type": "code",
   "execution_count": 75,
   "metadata": {},
   "outputs": [],
   "source": [
    "\n",
    "twitter_archive_clean.doggo=twitter_archive_clean.doggo.replace('None','')\n",
    "twitter_archive_clean.floofer=twitter_archive_clean.floofer.replace('None','')\n",
    "twitter_archive_clean.pupper=twitter_archive_clean.pupper.replace('None','')\n",
    "twitter_archive_clean.puppo=twitter_archive_clean.puppo.replace('None','')\n",
    "twitter_archive_clean['stage']=(twitter_archive_clean.doggo).str.cat(twitter_archive_clean.floofer).str.cat(twitter_archive_clean.pupper).str.cat(twitter_archive_clean.puppo)\n",
    "twitter_archive_clean.stage.value_counts()\n",
    "twitter_archive_clean.drop(['doggo','floofer','pupper','puppo'], axis=1, inplace=True)\n",
    "twitter_archive_clean.stage=twitter_archive_clean.stage.replace('',np.nan)\n"
   ]
  },
  {
   "cell_type": "markdown",
   "metadata": {},
   "source": [
    "# test:"
   ]
  },
  {
   "cell_type": "code",
   "execution_count": 76,
   "metadata": {},
   "outputs": [
    {
     "data": {
      "text/plain": [
       "pupper     218\n",
       "doggo       74\n",
       "puppo       23\n",
       "floofer      9\n",
       "Name: stage, dtype: int64"
      ]
     },
     "execution_count": 76,
     "metadata": {},
     "output_type": "execute_result"
    }
   ],
   "source": [
    "twitter_archive_clean.stage.value_counts()"
   ]
  },
  {
   "cell_type": "markdown",
   "metadata": {},
   "source": [
    "## Tidiness issue 2 : Single variable can be used instead of  more variables "
   ]
  },
  {
   "cell_type": "markdown",
   "metadata": {},
   "source": [
    "predicted variable is not completely determined from other column of dog in image_prediction"
   ]
  },
  {
   "cell_type": "markdown",
   "metadata": {},
   "source": [
    "## Define: "
   ]
  },
  {
   "cell_type": "markdown",
   "metadata": {},
   "source": [
    "Creation of new column \"Predicted\" from details of other columns p1,p1_dog,p2,p2_dog,p3,p3_dog to find predicted breed simplify analysis of data."
   ]
  },
  {
   "cell_type": "markdown",
   "metadata": {},
   "source": [
    "## code :"
   ]
  },
  {
   "cell_type": "code",
   "execution_count": 77,
   "metadata": {},
   "outputs": [
    {
     "name": "stderr",
     "output_type": "stream",
     "text": [
      "/opt/conda/lib/python3.6/site-packages/ipykernel_launcher.py:2: SettingWithCopyWarning: \n",
      "A value is trying to be set on a copy of a slice from a DataFrame\n",
      "\n",
      "See the caveats in the documentation: http://pandas.pydata.org/pandas-docs/stable/indexing.html#indexing-view-versus-copy\n",
      "  \n",
      "/opt/conda/lib/python3.6/site-packages/ipykernel_launcher.py:3: SettingWithCopyWarning: \n",
      "A value is trying to be set on a copy of a slice from a DataFrame\n",
      "\n",
      "See the caveats in the documentation: http://pandas.pydata.org/pandas-docs/stable/indexing.html#indexing-view-versus-copy\n",
      "  This is separate from the ipykernel package so we can avoid doing imports until\n",
      "/opt/conda/lib/python3.6/site-packages/ipykernel_launcher.py:4: SettingWithCopyWarning: \n",
      "A value is trying to be set on a copy of a slice from a DataFrame\n",
      "\n",
      "See the caveats in the documentation: http://pandas.pydata.org/pandas-docs/stable/indexing.html#indexing-view-versus-copy\n",
      "  after removing the cwd from sys.path.\n"
     ]
    }
   ],
   "source": [
    "image_prediction['predicted']=image_prediction.p1\n",
    "image_prediction.predicted[image_prediction.p1_dog==False]=image_prediction.p2\n",
    "image_prediction.predicted[(image_prediction.p1_dog==False)&(image_prediction.p2_dog==False)]= image_prediction.p3\n",
    "image_prediction.predicted[(image_prediction.p1_dog==False)&(image_prediction.p2_dog==False)&(image_prediction.p3_dog==False)]='None' \n",
    "image_prediction.predicted=image_prediction.predicted.replace('None',np.nan)"
   ]
  },
  {
   "cell_type": "markdown",
   "metadata": {},
   "source": [
    "## test:"
   ]
  },
  {
   "cell_type": "code",
   "execution_count": 78,
   "metadata": {
    "scrolled": true
   },
   "outputs": [
    {
     "data": {
      "text/html": [
       "<div>\n",
       "<style>\n",
       "    .dataframe thead tr:only-child th {\n",
       "        text-align: right;\n",
       "    }\n",
       "\n",
       "    .dataframe thead th {\n",
       "        text-align: left;\n",
       "    }\n",
       "\n",
       "    .dataframe tbody tr th {\n",
       "        vertical-align: top;\n",
       "    }\n",
       "</style>\n",
       "<table border=\"1\" class=\"dataframe\">\n",
       "  <thead>\n",
       "    <tr style=\"text-align: right;\">\n",
       "      <th></th>\n",
       "      <th>tweet_id</th>\n",
       "      <th>jpg_url</th>\n",
       "      <th>img_num</th>\n",
       "      <th>p1</th>\n",
       "      <th>p1_conf</th>\n",
       "      <th>p1_dog</th>\n",
       "      <th>p2</th>\n",
       "      <th>p2_conf</th>\n",
       "      <th>p2_dog</th>\n",
       "      <th>p3</th>\n",
       "      <th>p3_conf</th>\n",
       "      <th>p3_dog</th>\n",
       "      <th>predicted</th>\n",
       "    </tr>\n",
       "  </thead>\n",
       "  <tbody>\n",
       "    <tr>\n",
       "      <th>0</th>\n",
       "      <td>666020888022790149</td>\n",
       "      <td>https://pbs.twimg.com/media/CT4udn0WwAA0aMy.jpg</td>\n",
       "      <td>1</td>\n",
       "      <td>Welsh_springer_spaniel</td>\n",
       "      <td>0.465074</td>\n",
       "      <td>True</td>\n",
       "      <td>collie</td>\n",
       "      <td>0.156665</td>\n",
       "      <td>True</td>\n",
       "      <td>Shetland_sheepdog</td>\n",
       "      <td>0.061428</td>\n",
       "      <td>True</td>\n",
       "      <td>Welsh_springer_spaniel</td>\n",
       "    </tr>\n",
       "    <tr>\n",
       "      <th>1</th>\n",
       "      <td>666029285002620928</td>\n",
       "      <td>https://pbs.twimg.com/media/CT42GRgUYAA5iDo.jpg</td>\n",
       "      <td>1</td>\n",
       "      <td>redbone</td>\n",
       "      <td>0.506826</td>\n",
       "      <td>True</td>\n",
       "      <td>miniature_pinscher</td>\n",
       "      <td>0.074192</td>\n",
       "      <td>True</td>\n",
       "      <td>Rhodesian_ridgeback</td>\n",
       "      <td>0.072010</td>\n",
       "      <td>True</td>\n",
       "      <td>redbone</td>\n",
       "    </tr>\n",
       "    <tr>\n",
       "      <th>2</th>\n",
       "      <td>666033412701032449</td>\n",
       "      <td>https://pbs.twimg.com/media/CT4521TWwAEvMyu.jpg</td>\n",
       "      <td>1</td>\n",
       "      <td>German_shepherd</td>\n",
       "      <td>0.596461</td>\n",
       "      <td>True</td>\n",
       "      <td>malinois</td>\n",
       "      <td>0.138584</td>\n",
       "      <td>True</td>\n",
       "      <td>bloodhound</td>\n",
       "      <td>0.116197</td>\n",
       "      <td>True</td>\n",
       "      <td>German_shepherd</td>\n",
       "    </tr>\n",
       "    <tr>\n",
       "      <th>3</th>\n",
       "      <td>666044226329800704</td>\n",
       "      <td>https://pbs.twimg.com/media/CT5Dr8HUEAA-lEu.jpg</td>\n",
       "      <td>1</td>\n",
       "      <td>Rhodesian_ridgeback</td>\n",
       "      <td>0.408143</td>\n",
       "      <td>True</td>\n",
       "      <td>redbone</td>\n",
       "      <td>0.360687</td>\n",
       "      <td>True</td>\n",
       "      <td>miniature_pinscher</td>\n",
       "      <td>0.222752</td>\n",
       "      <td>True</td>\n",
       "      <td>Rhodesian_ridgeback</td>\n",
       "    </tr>\n",
       "    <tr>\n",
       "      <th>4</th>\n",
       "      <td>666049248165822465</td>\n",
       "      <td>https://pbs.twimg.com/media/CT5IQmsXIAAKY4A.jpg</td>\n",
       "      <td>1</td>\n",
       "      <td>miniature_pinscher</td>\n",
       "      <td>0.560311</td>\n",
       "      <td>True</td>\n",
       "      <td>Rottweiler</td>\n",
       "      <td>0.243682</td>\n",
       "      <td>True</td>\n",
       "      <td>Doberman</td>\n",
       "      <td>0.154629</td>\n",
       "      <td>True</td>\n",
       "      <td>miniature_pinscher</td>\n",
       "    </tr>\n",
       "    <tr>\n",
       "      <th>5</th>\n",
       "      <td>666050758794694657</td>\n",
       "      <td>https://pbs.twimg.com/media/CT5Jof1WUAEuVxN.jpg</td>\n",
       "      <td>1</td>\n",
       "      <td>Bernese_mountain_dog</td>\n",
       "      <td>0.651137</td>\n",
       "      <td>True</td>\n",
       "      <td>English_springer</td>\n",
       "      <td>0.263788</td>\n",
       "      <td>True</td>\n",
       "      <td>Greater_Swiss_Mountain_dog</td>\n",
       "      <td>0.016199</td>\n",
       "      <td>True</td>\n",
       "      <td>Bernese_mountain_dog</td>\n",
       "    </tr>\n",
       "    <tr>\n",
       "      <th>6</th>\n",
       "      <td>666051853826850816</td>\n",
       "      <td>https://pbs.twimg.com/media/CT5KoJ1WoAAJash.jpg</td>\n",
       "      <td>1</td>\n",
       "      <td>box_turtle</td>\n",
       "      <td>0.933012</td>\n",
       "      <td>False</td>\n",
       "      <td>mud_turtle</td>\n",
       "      <td>0.045885</td>\n",
       "      <td>False</td>\n",
       "      <td>terrapin</td>\n",
       "      <td>0.017885</td>\n",
       "      <td>False</td>\n",
       "      <td>NaN</td>\n",
       "    </tr>\n",
       "    <tr>\n",
       "      <th>7</th>\n",
       "      <td>666055525042405380</td>\n",
       "      <td>https://pbs.twimg.com/media/CT5N9tpXIAAifs1.jpg</td>\n",
       "      <td>1</td>\n",
       "      <td>chow</td>\n",
       "      <td>0.692517</td>\n",
       "      <td>True</td>\n",
       "      <td>Tibetan_mastiff</td>\n",
       "      <td>0.058279</td>\n",
       "      <td>True</td>\n",
       "      <td>fur_coat</td>\n",
       "      <td>0.054449</td>\n",
       "      <td>False</td>\n",
       "      <td>chow</td>\n",
       "    </tr>\n",
       "    <tr>\n",
       "      <th>8</th>\n",
       "      <td>666057090499244032</td>\n",
       "      <td>https://pbs.twimg.com/media/CT5PY90WoAAQGLo.jpg</td>\n",
       "      <td>1</td>\n",
       "      <td>shopping_cart</td>\n",
       "      <td>0.962465</td>\n",
       "      <td>False</td>\n",
       "      <td>shopping_basket</td>\n",
       "      <td>0.014594</td>\n",
       "      <td>False</td>\n",
       "      <td>golden_retriever</td>\n",
       "      <td>0.007959</td>\n",
       "      <td>True</td>\n",
       "      <td>golden_retriever</td>\n",
       "    </tr>\n",
       "    <tr>\n",
       "      <th>9</th>\n",
       "      <td>666058600524156928</td>\n",
       "      <td>https://pbs.twimg.com/media/CT5Qw94XAAA_2dP.jpg</td>\n",
       "      <td>1</td>\n",
       "      <td>miniature_poodle</td>\n",
       "      <td>0.201493</td>\n",
       "      <td>True</td>\n",
       "      <td>komondor</td>\n",
       "      <td>0.192305</td>\n",
       "      <td>True</td>\n",
       "      <td>soft-coated_wheaten_terrier</td>\n",
       "      <td>0.082086</td>\n",
       "      <td>True</td>\n",
       "      <td>miniature_poodle</td>\n",
       "    </tr>\n",
       "  </tbody>\n",
       "</table>\n",
       "</div>"
      ],
      "text/plain": [
       "             tweet_id                                          jpg_url  \\\n",
       "0  666020888022790149  https://pbs.twimg.com/media/CT4udn0WwAA0aMy.jpg   \n",
       "1  666029285002620928  https://pbs.twimg.com/media/CT42GRgUYAA5iDo.jpg   \n",
       "2  666033412701032449  https://pbs.twimg.com/media/CT4521TWwAEvMyu.jpg   \n",
       "3  666044226329800704  https://pbs.twimg.com/media/CT5Dr8HUEAA-lEu.jpg   \n",
       "4  666049248165822465  https://pbs.twimg.com/media/CT5IQmsXIAAKY4A.jpg   \n",
       "5  666050758794694657  https://pbs.twimg.com/media/CT5Jof1WUAEuVxN.jpg   \n",
       "6  666051853826850816  https://pbs.twimg.com/media/CT5KoJ1WoAAJash.jpg   \n",
       "7  666055525042405380  https://pbs.twimg.com/media/CT5N9tpXIAAifs1.jpg   \n",
       "8  666057090499244032  https://pbs.twimg.com/media/CT5PY90WoAAQGLo.jpg   \n",
       "9  666058600524156928  https://pbs.twimg.com/media/CT5Qw94XAAA_2dP.jpg   \n",
       "\n",
       "   img_num                      p1   p1_conf  p1_dog                  p2  \\\n",
       "0        1  Welsh_springer_spaniel  0.465074    True              collie   \n",
       "1        1                 redbone  0.506826    True  miniature_pinscher   \n",
       "2        1         German_shepherd  0.596461    True            malinois   \n",
       "3        1     Rhodesian_ridgeback  0.408143    True             redbone   \n",
       "4        1      miniature_pinscher  0.560311    True          Rottweiler   \n",
       "5        1    Bernese_mountain_dog  0.651137    True    English_springer   \n",
       "6        1              box_turtle  0.933012   False          mud_turtle   \n",
       "7        1                    chow  0.692517    True     Tibetan_mastiff   \n",
       "8        1           shopping_cart  0.962465   False     shopping_basket   \n",
       "9        1        miniature_poodle  0.201493    True            komondor   \n",
       "\n",
       "    p2_conf  p2_dog                           p3   p3_conf  p3_dog  \\\n",
       "0  0.156665    True            Shetland_sheepdog  0.061428    True   \n",
       "1  0.074192    True          Rhodesian_ridgeback  0.072010    True   \n",
       "2  0.138584    True                   bloodhound  0.116197    True   \n",
       "3  0.360687    True           miniature_pinscher  0.222752    True   \n",
       "4  0.243682    True                     Doberman  0.154629    True   \n",
       "5  0.263788    True   Greater_Swiss_Mountain_dog  0.016199    True   \n",
       "6  0.045885   False                     terrapin  0.017885   False   \n",
       "7  0.058279    True                     fur_coat  0.054449   False   \n",
       "8  0.014594   False             golden_retriever  0.007959    True   \n",
       "9  0.192305    True  soft-coated_wheaten_terrier  0.082086    True   \n",
       "\n",
       "                predicted  \n",
       "0  Welsh_springer_spaniel  \n",
       "1                 redbone  \n",
       "2         German_shepherd  \n",
       "3     Rhodesian_ridgeback  \n",
       "4      miniature_pinscher  \n",
       "5    Bernese_mountain_dog  \n",
       "6                     NaN  \n",
       "7                    chow  \n",
       "8        golden_retriever  \n",
       "9        miniature_poodle  "
      ]
     },
     "execution_count": 78,
     "metadata": {},
     "output_type": "execute_result"
    }
   ],
   "source": [
    "image_prediction.head(10)"
   ]
  },
  {
   "cell_type": "markdown",
   "metadata": {},
   "source": [
    "# Tidiness issue 3 :No single master file containing all pieces of data "
   ]
  },
  {
   "cell_type": "markdown",
   "metadata": {},
   "source": [
    "Merging of the twitter_archive_clean ,status dataframe and image prediction dataframe  so that variable favorites and tweets can be used in analysis effectively."
   ]
  },
  {
   "cell_type": "markdown",
   "metadata": {},
   "source": [
    "## Define:"
   ]
  },
  {
   "cell_type": "markdown",
   "metadata": {},
   "source": [
    "Merging of the twitter_archive_clean ,status dataframe and image prediction dataframe  so that variable favorites and tweets can be used in analysis effectively."
   ]
  },
  {
   "cell_type": "markdown",
   "metadata": {},
   "source": [
    "## code:"
   ]
  },
  {
   "cell_type": "code",
   "execution_count": 79,
   "metadata": {},
   "outputs": [],
   "source": [
    "image_prediction.tweet_id=image_prediction.tweet_id.astype(str)\n",
    "status.tweet_id=status.tweet_id.astype(str)\n",
    "twitter_archive_clean=pd.merge(twitter_archive_clean,status,on='tweet_id')\n",
    "twitter_archive_clean=pd.merge(twitter_archive_clean,image_prediction,on='tweet_id')\n"
   ]
  },
  {
   "cell_type": "markdown",
   "metadata": {},
   "source": [
    "## test:"
   ]
  },
  {
   "cell_type": "code",
   "execution_count": 80,
   "metadata": {},
   "outputs": [
    {
     "name": "stdout",
     "output_type": "stream",
     "text": [
      "                tweet_id           timestamp              source  \\\n",
      "0     892420643555336193 2017-08-01 16:23:56  Twitter for iPhone   \n",
      "1     892177421306343426 2017-08-01 00:17:27  Twitter for iPhone   \n",
      "2     891815181378084864 2017-07-31 00:18:03  Twitter for iPhone   \n",
      "3     891689557279858688 2017-07-30 15:58:51  Twitter for iPhone   \n",
      "4     891327558926688256 2017-07-29 16:00:24  Twitter for iPhone   \n",
      "5     891087950875897856 2017-07-29 00:08:17  Twitter for iPhone   \n",
      "6     890729181411237888 2017-07-28 00:22:40  Twitter for iPhone   \n",
      "7     890609185150312448 2017-07-27 16:25:51  Twitter for iPhone   \n",
      "8     890240255349198849 2017-07-26 15:59:51  Twitter for iPhone   \n",
      "9     890006608113172480 2017-07-26 00:31:25  Twitter for iPhone   \n",
      "10    889880896479866881 2017-07-25 16:11:53  Twitter for iPhone   \n",
      "11    889665388333682689 2017-07-25 01:55:32  Twitter for iPhone   \n",
      "12    889638837579907072 2017-07-25 00:10:02  Twitter for iPhone   \n",
      "13    889531135344209921 2017-07-24 17:02:04  Twitter for iPhone   \n",
      "14    889278841981685760 2017-07-24 00:19:32  Twitter for iPhone   \n",
      "15    888917238123831296 2017-07-23 00:22:39  Twitter for iPhone   \n",
      "16    888804989199671297 2017-07-22 16:56:37  Twitter for iPhone   \n",
      "17    888554962724278272 2017-07-22 00:23:06  Twitter for iPhone   \n",
      "18    888078434458587136 2017-07-20 16:49:33  Twitter for iPhone   \n",
      "19    887705289381826560 2017-07-19 16:06:48  Twitter for iPhone   \n",
      "20    887517139158093824 2017-07-19 03:39:09  Twitter for iPhone   \n",
      "21    887473957103951883 2017-07-19 00:47:34  Twitter for iPhone   \n",
      "22    887343217045368832 2017-07-18 16:08:03  Twitter for iPhone   \n",
      "23    887101392804085760 2017-07-18 00:07:08  Twitter for iPhone   \n",
      "24    886983233522544640 2017-07-17 16:17:36  Twitter for iPhone   \n",
      "25    886680336477933568 2017-07-16 20:14:00  Twitter for iPhone   \n",
      "26    886366144734445568 2017-07-15 23:25:31  Twitter for iPhone   \n",
      "27    886258384151887873 2017-07-15 16:17:19  Twitter for iPhone   \n",
      "28    885984800019947520 2017-07-14 22:10:11  Twitter for iPhone   \n",
      "29    885528943205470208 2017-07-13 15:58:47  Twitter for iPhone   \n",
      "...                  ...                 ...                 ...   \n",
      "1882  666428276349472768 2015-11-17 01:30:57  Twitter for iPhone   \n",
      "1883  666421158376562688 2015-11-17 01:02:40  Twitter for iPhone   \n",
      "1884  666418789513326592 2015-11-17 00:53:15  Twitter for iPhone   \n",
      "1885  666407126856765440 2015-11-17 00:06:54  Twitter for iPhone   \n",
      "1886  666396247373291520 2015-11-16 23:23:41  Twitter for iPhone   \n",
      "1887  666373753744588802 2015-11-16 21:54:18  Twitter for iPhone   \n",
      "1888  666362758909284353 2015-11-16 21:10:36  Twitter for iPhone   \n",
      "1889  666353288456101888 2015-11-16 20:32:58  Twitter for iPhone   \n",
      "1890  666345417576210432 2015-11-16 20:01:42  Twitter for iPhone   \n",
      "1891  666337882303524864 2015-11-16 19:31:45  Twitter for iPhone   \n",
      "1892  666293911632134144 2015-11-16 16:37:02  Twitter for iPhone   \n",
      "1893  666287406224695296 2015-11-16 16:11:11  Twitter for iPhone   \n",
      "1894  666273097616637952 2015-11-16 15:14:19  Twitter for iPhone   \n",
      "1895  666268910803644416 2015-11-16 14:57:41  Twitter for iPhone   \n",
      "1896  666102155909144576 2015-11-16 03:55:04  Twitter for iPhone   \n",
      "1897  666099513787052032 2015-11-16 03:44:34  Twitter for iPhone   \n",
      "1898  666094000022159362 2015-11-16 03:22:39  Twitter for iPhone   \n",
      "1899  666082916733198337 2015-11-16 02:38:37  Twitter for iPhone   \n",
      "1900  666073100786774016 2015-11-16 01:59:36  Twitter for iPhone   \n",
      "1901  666071193221509120 2015-11-16 01:52:02  Twitter for iPhone   \n",
      "1902  666063827256086533 2015-11-16 01:22:45  Twitter for iPhone   \n",
      "1903  666058600524156928 2015-11-16 01:01:59  Twitter for iPhone   \n",
      "1904  666057090499244032 2015-11-16 00:55:59  Twitter for iPhone   \n",
      "1905  666055525042405380 2015-11-16 00:49:46  Twitter for iPhone   \n",
      "1906  666050758794694657 2015-11-16 00:30:50  Twitter for iPhone   \n",
      "1907  666049248165822465 2015-11-16 00:24:50  Twitter for iPhone   \n",
      "1908  666044226329800704 2015-11-16 00:04:52  Twitter for iPhone   \n",
      "1909  666033412701032449 2015-11-15 23:21:54  Twitter for iPhone   \n",
      "1910  666029285002620928 2015-11-15 23:05:30  Twitter for iPhone   \n",
      "1911  666020888022790149 2015-11-15 22:32:08  Twitter for iPhone   \n",
      "\n",
      "                                                   text  \\\n",
      "0     This is Phineas. He's a mystical boy. Only eve...   \n",
      "1     This is Tilly. She's just checking pup on you....   \n",
      "2     This is Archie. He is a rare Norwegian Pouncin...   \n",
      "3     This is Darla. She commenced a snooze mid meal...   \n",
      "4     This is Franklin. He would like you to stop ca...   \n",
      "5     Here we have a majestic great white breaching ...   \n",
      "6     When you watch your owner call another dog a g...   \n",
      "7     This is Zoey. She doesn't want to be one of th...   \n",
      "8     This is Cassie. She is a college pup. Studying...   \n",
      "9     This is Koda. He is a South Australian decksha...   \n",
      "10    This is Bruno. He is a service shark. Only get...   \n",
      "11    Here's a puppo that seems to be on the fence a...   \n",
      "12    This is Ted. He does his best. Sometimes that'...   \n",
      "13    This is Stuart. He's sporting his favorite fan...   \n",
      "14    This is Oliver. You're witnessing one of his m...   \n",
      "15    This is Jim. He found a fren. Taught him how t...   \n",
      "16    This is Zeke. He has a new stick. Very proud o...   \n",
      "17    This is Ralphus. He's powering up. Attempting ...   \n",
      "18    This is Gerald. He was just told he didn't get...   \n",
      "19    This is Jeffrey. He has a monopoly on the pool...   \n",
      "20    I've yet to rate a Venezuelan Hover Wiener. Th...   \n",
      "21    This is Canela. She attempted some fancy porch...   \n",
      "22    You may not have known you needed to see this ...   \n",
      "23    This... is a Jubilant Antarctic House Bear. We...   \n",
      "24    This is Maya. She's very shy. Rarely leaves he...   \n",
      "25    This is Derek. He's late for a dog meeting. 13...   \n",
      "26    This is Roscoe. Another pupper fallen victim t...   \n",
      "27    This is Waffles. His doggles are pupside down....   \n",
      "28    Viewer discretion advised. This is Jimbo. He w...   \n",
      "29    This is Maisey. She fell asleep mid-excavation...   \n",
      "...                                                 ...   \n",
      "1882  Here we have an Austrian Pulitzer. Collectors ...   \n",
      "1883  *internally screaming* 12/10 https://t.co/YMcr...   \n",
      "1884  This is Walter. He is an Alaskan Terrapin. Lov...   \n",
      "1885  This is a southern Vesuvius bumblegruff. Can d...   \n",
      "1886  Oh goodness. A super rare northeast Qdoba kang...   \n",
      "1887  Those are sunglasses and a jean jacket. 11/10 ...   \n",
      "1888  Unique dog here. Very small. Lives in containe...   \n",
      "1889  Here we have a mixed Asiago from the Gal?ípago...   \n",
      "1890  Look at this jokester thinking seat belt laws ...   \n",
      "1891  This is an extremely rare horned Parthenon. No...   \n",
      "1892  This is a funny dog. Weird toes. Won't come do...   \n",
      "1893  This is an Albanian 3 1/2 legged  Episcopalian...   \n",
      "1894     Can take selfies 11/10 https://t.co/ws2AMaNwPW   \n",
      "1895  Very concerned about fellow dog trapped in com...   \n",
      "1896  Oh my. Here you are seeing an Adobe Setter giv...   \n",
      "1897  Can stand on stump for what seems like a while...   \n",
      "1898  This appears to be a Mongolian Presbyterian mi...   \n",
      "1899  Here we have a well-established sunblockerspan...   \n",
      "1900  Let's hope this flight isn't Malaysian (lol). ...   \n",
      "1901  Here we have a northern speckled Rhododendron....   \n",
      "1902  This is the happiest dog you will ever see. Ve...   \n",
      "1903  Here is the Rand Paul of retrievers folks! He'...   \n",
      "1904  My oh my. This is a rare blond Canadian terrie...   \n",
      "1905  Here is a Siberian heavily armored polar bear ...   \n",
      "1906  This is a truly beautiful English Wilson Staff...   \n",
      "1907  Here we have a 1949 1st generation vulpix. Enj...   \n",
      "1908  This is a purebred Piers Morgan. Loves to Netf...   \n",
      "1909  Here is a very happy pup. Big fan of well-main...   \n",
      "1910  This is a western brown Mitsubishi terrier. Up...   \n",
      "1911  Here we have a Japanese Irish Setter. Lost eye...   \n",
      "\n",
      "                                          expanded_urls  rating_numerator  \\\n",
      "0     https://twitter.com/dog_rates/status/892420643...              13.0   \n",
      "1     https://twitter.com/dog_rates/status/892177421...              13.0   \n",
      "2     https://twitter.com/dog_rates/status/891815181...              12.0   \n",
      "3     https://twitter.com/dog_rates/status/891689557...              13.0   \n",
      "4     https://twitter.com/dog_rates/status/891327558...              12.0   \n",
      "5     https://twitter.com/dog_rates/status/891087950...              13.0   \n",
      "6     https://twitter.com/dog_rates/status/890729181...              13.0   \n",
      "7     https://twitter.com/dog_rates/status/890609185...              13.0   \n",
      "8     https://twitter.com/dog_rates/status/890240255...              14.0   \n",
      "9     https://twitter.com/dog_rates/status/890006608...              13.0   \n",
      "10    https://twitter.com/dog_rates/status/889880896...              13.0   \n",
      "11    https://twitter.com/dog_rates/status/889665388...              13.0   \n",
      "12    https://twitter.com/dog_rates/status/889638837...              12.0   \n",
      "13    https://twitter.com/dog_rates/status/889531135...              13.0   \n",
      "14    https://twitter.com/dog_rates/status/889278841...              13.0   \n",
      "15    https://twitter.com/dog_rates/status/888917238...              12.0   \n",
      "16    https://twitter.com/dog_rates/status/888804989...              13.0   \n",
      "17    https://twitter.com/dog_rates/status/888554962...              13.0   \n",
      "18    https://twitter.com/dog_rates/status/888078434...              12.0   \n",
      "19    https://twitter.com/dog_rates/status/887705289...              13.0   \n",
      "20    https://twitter.com/dog_rates/status/887517139...              14.0   \n",
      "21    https://twitter.com/dog_rates/status/887473957...              13.0   \n",
      "22    https://twitter.com/dog_rates/status/887343217...              13.0   \n",
      "23    https://twitter.com/dog_rates/status/887101392...              12.0   \n",
      "24    https://twitter.com/dog_rates/status/886983233...              13.0   \n",
      "25    https://twitter.com/dog_rates/status/886680336...              13.0   \n",
      "26    https://twitter.com/dog_rates/status/886366144...              12.0   \n",
      "27    https://twitter.com/dog_rates/status/886258384...              13.0   \n",
      "28    https://twitter.com/dog_rates/status/885984800...              12.0   \n",
      "29    https://twitter.com/dog_rates/status/885528943...              13.0   \n",
      "...                                                 ...               ...   \n",
      "1882  https://twitter.com/dog_rates/status/666428276...               7.0   \n",
      "1883  https://twitter.com/dog_rates/status/666421158...              12.0   \n",
      "1884  https://twitter.com/dog_rates/status/666418789...              10.0   \n",
      "1885  https://twitter.com/dog_rates/status/666407126...               7.0   \n",
      "1886  https://twitter.com/dog_rates/status/666396247...               9.0   \n",
      "1887  https://twitter.com/dog_rates/status/666373753...              11.0   \n",
      "1888  https://twitter.com/dog_rates/status/666362758...               6.0   \n",
      "1889  https://twitter.com/dog_rates/status/666353288...               8.0   \n",
      "1890  https://twitter.com/dog_rates/status/666345417...              10.0   \n",
      "1891  https://twitter.com/dog_rates/status/666337882...               9.0   \n",
      "1892  https://twitter.com/dog_rates/status/666293911...               3.0   \n",
      "1893  https://twitter.com/dog_rates/status/666287406...               1.0   \n",
      "1894  https://twitter.com/dog_rates/status/666273097...              11.0   \n",
      "1895  https://twitter.com/dog_rates/status/666268910...              10.0   \n",
      "1896  https://twitter.com/dog_rates/status/666102155...              11.0   \n",
      "1897  https://twitter.com/dog_rates/status/666099513...               8.0   \n",
      "1898  https://twitter.com/dog_rates/status/666094000...               9.0   \n",
      "1899  https://twitter.com/dog_rates/status/666082916...               6.0   \n",
      "1900  https://twitter.com/dog_rates/status/666073100...              10.0   \n",
      "1901  https://twitter.com/dog_rates/status/666071193...               9.0   \n",
      "1902  https://twitter.com/dog_rates/status/666063827...              10.0   \n",
      "1903  https://twitter.com/dog_rates/status/666058600...               8.0   \n",
      "1904  https://twitter.com/dog_rates/status/666057090...               9.0   \n",
      "1905  https://twitter.com/dog_rates/status/666055525...              10.0   \n",
      "1906  https://twitter.com/dog_rates/status/666050758...              10.0   \n",
      "1907  https://twitter.com/dog_rates/status/666049248...               5.0   \n",
      "1908  https://twitter.com/dog_rates/status/666044226...               6.0   \n",
      "1909  https://twitter.com/dog_rates/status/666033412...               9.0   \n",
      "1910  https://twitter.com/dog_rates/status/666029285...               7.0   \n",
      "1911  https://twitter.com/dog_rates/status/666020888...               8.0   \n",
      "\n",
      "      rating_denominator      name  rating_ratio   stage  \\\n",
      "0                   10.0   Phineas           1.3     NaN   \n",
      "1                   10.0     Tilly           1.3     NaN   \n",
      "2                   10.0    Archie           1.2     NaN   \n",
      "3                   10.0     Darla           1.3     NaN   \n",
      "4                   10.0  Franklin           1.2     NaN   \n",
      "5                   10.0       NaN           1.3     NaN   \n",
      "6                   10.0       NaN           1.3     NaN   \n",
      "7                   10.0      Zoey           1.3     NaN   \n",
      "8                   10.0    Cassie           1.4   doggo   \n",
      "9                   10.0      Koda           1.3     NaN   \n",
      "10                  10.0     Bruno           1.3     NaN   \n",
      "11                  10.0       NaN           1.3   puppo   \n",
      "12                  10.0       Ted           1.2     NaN   \n",
      "13                  10.0    Stuart           1.3   puppo   \n",
      "14                  10.0    Oliver           1.3     NaN   \n",
      "15                  10.0       Jim           1.2     NaN   \n",
      "16                  10.0      Zeke           1.3     NaN   \n",
      "17                  10.0   Ralphus           1.3     NaN   \n",
      "18                  10.0    Gerald           1.2     NaN   \n",
      "19                  10.0   Jeffrey           1.3     NaN   \n",
      "20                  10.0       NaN           1.4     NaN   \n",
      "21                  10.0    Canela           1.3     NaN   \n",
      "22                  10.0       NaN           1.3     NaN   \n",
      "23                  10.0       NaN           1.2     NaN   \n",
      "24                  10.0      Maya           1.3     NaN   \n",
      "25                  10.0     Derek           1.3     NaN   \n",
      "26                  10.0    Roscoe           1.2  pupper   \n",
      "27                  10.0   Waffles           1.3     NaN   \n",
      "28                  10.0     Jimbo           1.2     NaN   \n",
      "29                  10.0    Maisey           1.3     NaN   \n",
      "...                  ...       ...           ...     ...   \n",
      "1882                10.0       NaN           0.7     NaN   \n",
      "1883                10.0       NaN           1.2     NaN   \n",
      "1884                10.0    Walter           1.0     NaN   \n",
      "1885                10.0       NaN           0.7     NaN   \n",
      "1886                10.0       NaN           0.9     NaN   \n",
      "1887                10.0       NaN           1.1     NaN   \n",
      "1888                10.0       NaN           0.6     NaN   \n",
      "1889                10.0       NaN           0.8     NaN   \n",
      "1890                10.0       NaN           1.0     NaN   \n",
      "1891                10.0       NaN           0.9     NaN   \n",
      "1892                10.0       NaN           0.3     NaN   \n",
      "1893                 2.0       NaN           0.5     NaN   \n",
      "1894                10.0       NaN           1.1     NaN   \n",
      "1895                10.0       NaN           1.0     NaN   \n",
      "1896                10.0       NaN           1.1     NaN   \n",
      "1897                10.0       NaN           0.8     NaN   \n",
      "1898                10.0       NaN           0.9     NaN   \n",
      "1899                10.0       NaN           0.6     NaN   \n",
      "1900                10.0       NaN           1.0     NaN   \n",
      "1901                10.0       NaN           0.9     NaN   \n",
      "1902                10.0       NaN           1.0     NaN   \n",
      "1903                10.0       NaN           0.8     NaN   \n",
      "1904                10.0       NaN           0.9     NaN   \n",
      "1905                10.0       NaN           1.0     NaN   \n",
      "1906                10.0       NaN           1.0     NaN   \n",
      "1907                10.0       NaN           0.5     NaN   \n",
      "1908                10.0       NaN           0.6     NaN   \n",
      "1909                10.0       NaN           0.9     NaN   \n",
      "1910                10.0       NaN           0.7     NaN   \n",
      "1911                10.0       NaN           0.8     NaN   \n",
      "\n",
      "                 ...                                        p1   p1_conf  \\\n",
      "0                ...                                    orange  0.097049   \n",
      "1                ...                                 Chihuahua  0.323581   \n",
      "2                ...                                 Chihuahua  0.716012   \n",
      "3                ...                               paper_towel  0.170278   \n",
      "4                ...                                    basset  0.555712   \n",
      "5                ...                  Chesapeake_Bay_retriever  0.425595   \n",
      "6                ...                                Pomeranian  0.566142   \n",
      "7                ...                             Irish_terrier  0.487574   \n",
      "8                ...                                  Pembroke  0.511319   \n",
      "9                ...                                   Samoyed  0.957979   \n",
      "10               ...                            French_bulldog  0.377417   \n",
      "11               ...                                  Pembroke  0.966327   \n",
      "12               ...                            French_bulldog  0.991650   \n",
      "13               ...                          golden_retriever  0.953442   \n",
      "14               ...                                   whippet  0.626152   \n",
      "15               ...                          golden_retriever  0.714719   \n",
      "16               ...                          golden_retriever  0.469760   \n",
      "17               ...                            Siberian_husky  0.700377   \n",
      "18               ...                            French_bulldog  0.995026   \n",
      "19               ...                                    basset  0.821664   \n",
      "20               ...                                 limousine  0.130432   \n",
      "21               ...                                  Pembroke  0.809197   \n",
      "22               ...                          Mexican_hairless  0.330741   \n",
      "23               ...                                   Samoyed  0.733942   \n",
      "24               ...                                 Chihuahua  0.793469   \n",
      "25               ...                               convertible  0.738995   \n",
      "26               ...                            French_bulldog  0.999201   \n",
      "27               ...                                       pug  0.943575   \n",
      "28               ...                          Blenheim_spaniel  0.972494   \n",
      "29               ...                                       pug  0.369275   \n",
      "...              ...                                       ...       ...   \n",
      "1882             ...                                  Pembroke  0.371361   \n",
      "1883             ...                          Blenheim_spaniel  0.906777   \n",
      "1884             ...                               toy_terrier  0.149680   \n",
      "1885             ...                   black-and-tan_coonhound  0.529139   \n",
      "1886             ...                                 Chihuahua  0.978108   \n",
      "1887             ...               soft-coated_wheaten_terrier  0.326467   \n",
      "1888             ...                                guinea_pig  0.996496   \n",
      "1889             ...                                  malamute  0.336874   \n",
      "1890             ...                          golden_retriever  0.858744   \n",
      "1891             ...                                        ox  0.416669   \n",
      "1892             ...                          three-toed_sloth  0.914671   \n",
      "1893             ...                               Maltese_dog  0.857531   \n",
      "1894             ...                         Italian_greyhound  0.176053   \n",
      "1895             ...                          desktop_computer  0.086502   \n",
      "1896             ...                            English_setter  0.298617   \n",
      "1897             ...                                     Lhasa  0.582330   \n",
      "1898             ...                                bloodhound  0.195217   \n",
      "1899             ...                                       pug  0.489814   \n",
      "1900             ...                              Walker_hound  0.260857   \n",
      "1901             ...                             Gordon_setter  0.503672   \n",
      "1902             ...                          golden_retriever  0.775930   \n",
      "1903             ...                          miniature_poodle  0.201493   \n",
      "1904             ...                             shopping_cart  0.962465   \n",
      "1905             ...                                      chow  0.692517   \n",
      "1906             ...                      Bernese_mountain_dog  0.651137   \n",
      "1907             ...                        miniature_pinscher  0.560311   \n",
      "1908             ...                       Rhodesian_ridgeback  0.408143   \n",
      "1909             ...                           German_shepherd  0.596461   \n",
      "1910             ...                                   redbone  0.506826   \n",
      "1911             ...                    Welsh_springer_spaniel  0.465074   \n",
      "\n",
      "     p1_dog                        p2   p2_conf  p2_dog  \\\n",
      "0     False                     bagel  0.085851   False   \n",
      "1      True                  Pekinese  0.090647    True   \n",
      "2      True                  malamute  0.078253    True   \n",
      "3     False        Labrador_retriever  0.168086    True   \n",
      "4      True          English_springer  0.225770    True   \n",
      "5      True             Irish_terrier  0.116317    True   \n",
      "6      True                Eskimo_dog  0.178406    True   \n",
      "7      True              Irish_setter  0.193054    True   \n",
      "8      True                  Cardigan  0.451038    True   \n",
      "9      True                Pomeranian  0.013884    True   \n",
      "10     True        Labrador_retriever  0.151317    True   \n",
      "11     True                  Cardigan  0.027356    True   \n",
      "12     True                     boxer  0.002129    True   \n",
      "13     True        Labrador_retriever  0.013834    True   \n",
      "14     True                    borzoi  0.194742    True   \n",
      "15     True           Tibetan_mastiff  0.120184    True   \n",
      "16     True        Labrador_retriever  0.184172    True   \n",
      "17     True                Eskimo_dog  0.166511    True   \n",
      "18     True                       pug  0.000932    True   \n",
      "19     True                   redbone  0.087582    True   \n",
      "20    False                 tow_truck  0.029175   False   \n",
      "21     True       Rhodesian_ridgeback  0.054950    True   \n",
      "22     True                  sea_lion  0.275645   False   \n",
      "23     True                Eskimo_dog  0.035029    True   \n",
      "24     True               toy_terrier  0.143528    True   \n",
      "25    False                sports_car  0.139952   False   \n",
      "26     True                 Chihuahua  0.000361    True   \n",
      "27     True                shower_cap  0.025286   False   \n",
      "28     True                  Shih-Tzu  0.006630    True   \n",
      "29     True        Labrador_retriever  0.265835    True   \n",
      "...     ...                       ...       ...     ...   \n",
      "1882   True                      chow  0.249394    True   \n",
      "1883   True            cocker_spaniel  0.090346    True   \n",
      "1884   True                  papillon  0.148258    True   \n",
      "1885   True                bloodhound  0.244220    True   \n",
      "1886   True               toy_terrier  0.009397    True   \n",
      "1887   True              Afghan_hound  0.259551    True   \n",
      "1888  False                     skunk  0.002402   False   \n",
      "1889   True            Siberian_husky  0.147655    True   \n",
      "1890   True  Chesapeake_Bay_retriever  0.054787    True   \n",
      "1891  False              Newfoundland  0.278407    True   \n",
      "1892  False                     otter  0.015250   False   \n",
      "1893   True                toy_poodle  0.063064    True   \n",
      "1894   True               toy_terrier  0.111884    True   \n",
      "1895  False                      desk  0.085547   False   \n",
      "1896   True              Newfoundland  0.149842    True   \n",
      "1897   True                  Shih-Tzu  0.166192    True   \n",
      "1898   True           German_shepherd  0.078260    True   \n",
      "1899   True              bull_mastiff  0.404722    True   \n",
      "1900   True          English_foxhound  0.175382    True   \n",
      "1901   True         Yorkshire_terrier  0.174201    True   \n",
      "1902   True           Tibetan_mastiff  0.093718    True   \n",
      "1903   True                  komondor  0.192305    True   \n",
      "1904  False           shopping_basket  0.014594   False   \n",
      "1905   True           Tibetan_mastiff  0.058279    True   \n",
      "1906   True          English_springer  0.263788    True   \n",
      "1907   True                Rottweiler  0.243682    True   \n",
      "1908   True                   redbone  0.360687    True   \n",
      "1909   True                  malinois  0.138584    True   \n",
      "1910   True        miniature_pinscher  0.074192    True   \n",
      "1911   True                    collie  0.156665    True   \n",
      "\n",
      "                               p3   p3_conf  p3_dog  \\\n",
      "0                          banana  0.076110   False   \n",
      "1                        papillon  0.068957    True   \n",
      "2                          kelpie  0.031379    True   \n",
      "3                         spatula  0.040836   False   \n",
      "4     German_short-haired_pointer  0.175219    True   \n",
      "5                 Indian_elephant  0.076902   False   \n",
      "6                        Pembroke  0.076507    True   \n",
      "7        Chesapeake_Bay_retriever  0.118184    True   \n",
      "8                       Chihuahua  0.029248    True   \n",
      "9                            chow  0.008167    True   \n",
      "10                         muzzle  0.082981   False   \n",
      "11                        basenji  0.004633    True   \n",
      "12      Staffordshire_bullterrier  0.001498    True   \n",
      "13                        redbone  0.007958    True   \n",
      "14                         Saluki  0.027351    True   \n",
      "15             Labrador_retriever  0.105506    True   \n",
      "16                 English_setter  0.073482    True   \n",
      "17                       malamute  0.111411    True   \n",
      "18                   bull_mastiff  0.000903    True   \n",
      "19                     Weimaraner  0.026236    True   \n",
      "20                  shopping_cart  0.026321   False   \n",
      "21                         beagle  0.038915    True   \n",
      "22                     Weimaraner  0.134203    True   \n",
      "23      Staffordshire_bullterrier  0.029705    True   \n",
      "24                     can_opener  0.032253   False   \n",
      "25                      car_wheel  0.044173   False   \n",
      "26                    Boston_bull  0.000076    True   \n",
      "27                    Siamese_cat  0.002849   False   \n",
      "28           Bernese_mountain_dog  0.006239    True   \n",
      "29                         kuvasz  0.134697    True   \n",
      "...                           ...       ...     ...   \n",
      "1882                   Pomeranian  0.241878    True   \n",
      "1883                     Shih-Tzu  0.001117    True   \n",
      "1884                    Chihuahua  0.142860    True   \n",
      "1885        flat-coated_retriever  0.173810    True   \n",
      "1886                     papillon  0.004577    True   \n",
      "1887                       briard  0.206803    True   \n",
      "1888                      hamster  0.000461   False   \n",
      "1889                   Eskimo_dog  0.093412    True   \n",
      "1890           Labrador_retriever  0.014241    True   \n",
      "1891                  groenendael  0.102643    True   \n",
      "1892               great_grey_owl  0.013207   False   \n",
      "1893             miniature_poodle  0.025581    True   \n",
      "1894                      basenji  0.111152    True   \n",
      "1895                     bookcase  0.079480   False   \n",
      "1896                       borzoi  0.133649    True   \n",
      "1897               Dandie_Dinmont  0.089688    True   \n",
      "1898                     malinois  0.075628    True   \n",
      "1899               French_bulldog  0.048960    True   \n",
      "1900                 Ibizan_hound  0.097471    True   \n",
      "1901                     Pekinese  0.109454    True   \n",
      "1902           Labrador_retriever  0.072427    True   \n",
      "1903  soft-coated_wheaten_terrier  0.082086    True   \n",
      "1904             golden_retriever  0.007959    True   \n",
      "1905                     fur_coat  0.054449   False   \n",
      "1906   Greater_Swiss_Mountain_dog  0.016199    True   \n",
      "1907                     Doberman  0.154629    True   \n",
      "1908           miniature_pinscher  0.222752    True   \n",
      "1909                   bloodhound  0.116197    True   \n",
      "1910          Rhodesian_ridgeback  0.072010    True   \n",
      "1911            Shetland_sheepdog  0.061428    True   \n",
      "\n",
      "                        predicted  \n",
      "0                             NaN  \n",
      "1                       Chihuahua  \n",
      "2                       Chihuahua  \n",
      "3              Labrador_retriever  \n",
      "4                          basset  \n",
      "5        Chesapeake_Bay_retriever  \n",
      "6                      Pomeranian  \n",
      "7                   Irish_terrier  \n",
      "8                        Pembroke  \n",
      "9                         Samoyed  \n",
      "10                 French_bulldog  \n",
      "11                       Pembroke  \n",
      "12                 French_bulldog  \n",
      "13               golden_retriever  \n",
      "14                        whippet  \n",
      "15               golden_retriever  \n",
      "16               golden_retriever  \n",
      "17                 Siberian_husky  \n",
      "18                 French_bulldog  \n",
      "19                         basset  \n",
      "20                            NaN  \n",
      "21                       Pembroke  \n",
      "22               Mexican_hairless  \n",
      "23                        Samoyed  \n",
      "24                      Chihuahua  \n",
      "25                            NaN  \n",
      "26                 French_bulldog  \n",
      "27                            pug  \n",
      "28               Blenheim_spaniel  \n",
      "29                            pug  \n",
      "...                           ...  \n",
      "1882                     Pembroke  \n",
      "1883             Blenheim_spaniel  \n",
      "1884                  toy_terrier  \n",
      "1885      black-and-tan_coonhound  \n",
      "1886                    Chihuahua  \n",
      "1887  soft-coated_wheaten_terrier  \n",
      "1888                          NaN  \n",
      "1889                     malamute  \n",
      "1890             golden_retriever  \n",
      "1891                 Newfoundland  \n",
      "1892                          NaN  \n",
      "1893                  Maltese_dog  \n",
      "1894            Italian_greyhound  \n",
      "1895                          NaN  \n",
      "1896               English_setter  \n",
      "1897                        Lhasa  \n",
      "1898                   bloodhound  \n",
      "1899                          pug  \n",
      "1900                 Walker_hound  \n",
      "1901                Gordon_setter  \n",
      "1902             golden_retriever  \n",
      "1903             miniature_poodle  \n",
      "1904             golden_retriever  \n",
      "1905                         chow  \n",
      "1906         Bernese_mountain_dog  \n",
      "1907           miniature_pinscher  \n",
      "1908          Rhodesian_ridgeback  \n",
      "1909              German_shepherd  \n",
      "1910                      redbone  \n",
      "1911       Welsh_springer_spaniel  \n",
      "\n",
      "[1912 rows x 24 columns]\n"
     ]
    }
   ],
   "source": [
    "print(twitter_archive_clean)"
   ]
  },
  {
   "cell_type": "markdown",
   "metadata": {},
   "source": [
    "# DATA STORING:"
   ]
  },
  {
   "cell_type": "code",
   "execution_count": 81,
   "metadata": {},
   "outputs": [],
   "source": [
    "twitter_archive_clean.to_csv('twitter_archive_master.csv', index=False)\n"
   ]
  },
  {
   "cell_type": "markdown",
   "metadata": {},
   "source": [
    "# ANALYSIS AND VISUALISATION"
   ]
  },
  {
   "cell_type": "code",
   "execution_count": 96,
   "metadata": {},
   "outputs": [
    {
     "data": {
      "text/html": [
       "<div>\n",
       "<style>\n",
       "    .dataframe thead tr:only-child th {\n",
       "        text-align: right;\n",
       "    }\n",
       "\n",
       "    .dataframe thead th {\n",
       "        text-align: left;\n",
       "    }\n",
       "\n",
       "    .dataframe tbody tr th {\n",
       "        vertical-align: top;\n",
       "    }\n",
       "</style>\n",
       "<table border=\"1\" class=\"dataframe\">\n",
       "  <thead>\n",
       "    <tr style=\"text-align: right;\">\n",
       "      <th></th>\n",
       "      <th>rating_ratio</th>\n",
       "      <th>favorites</th>\n",
       "      <th>retweets</th>\n",
       "    </tr>\n",
       "  </thead>\n",
       "  <tbody>\n",
       "    <tr>\n",
       "      <th>count</th>\n",
       "      <td>1912.000000</td>\n",
       "      <td>1912.000000</td>\n",
       "      <td>1912.000000</td>\n",
       "    </tr>\n",
       "    <tr>\n",
       "      <th>mean</th>\n",
       "      <td>1.058734</td>\n",
       "      <td>8892.532427</td>\n",
       "      <td>2711.259937</td>\n",
       "    </tr>\n",
       "    <tr>\n",
       "      <th>std</th>\n",
       "      <td>0.204878</td>\n",
       "      <td>13027.079563</td>\n",
       "      <td>4833.937746</td>\n",
       "    </tr>\n",
       "    <tr>\n",
       "      <th>min</th>\n",
       "      <td>0.300000</td>\n",
       "      <td>80.000000</td>\n",
       "      <td>12.000000</td>\n",
       "    </tr>\n",
       "    <tr>\n",
       "      <th>25%</th>\n",
       "      <td>1.000000</td>\n",
       "      <td>1909.250000</td>\n",
       "      <td>597.750000</td>\n",
       "    </tr>\n",
       "    <tr>\n",
       "      <th>50%</th>\n",
       "      <td>1.100000</td>\n",
       "      <td>3944.000000</td>\n",
       "      <td>1286.500000</td>\n",
       "    </tr>\n",
       "    <tr>\n",
       "      <th>75%</th>\n",
       "      <td>1.200000</td>\n",
       "      <td>11111.000000</td>\n",
       "      <td>3092.250000</td>\n",
       "    </tr>\n",
       "    <tr>\n",
       "      <th>max</th>\n",
       "      <td>1.400000</td>\n",
       "      <td>165062.000000</td>\n",
       "      <td>84376.000000</td>\n",
       "    </tr>\n",
       "  </tbody>\n",
       "</table>\n",
       "</div>"
      ],
      "text/plain": [
       "       rating_ratio      favorites      retweets\n",
       "count   1912.000000    1912.000000   1912.000000\n",
       "mean       1.058734    8892.532427   2711.259937\n",
       "std        0.204878   13027.079563   4833.937746\n",
       "min        0.300000      80.000000     12.000000\n",
       "25%        1.000000    1909.250000    597.750000\n",
       "50%        1.100000    3944.000000   1286.500000\n",
       "75%        1.200000   11111.000000   3092.250000\n",
       "max        1.400000  165062.000000  84376.000000"
      ]
     },
     "execution_count": 96,
     "metadata": {},
     "output_type": "execute_result"
    }
   ],
   "source": [
    "twitter_archive_clean_analyse=twitter_archive_clean[['rating_ratio','favorites','retweets']]\n",
    "twitter_archive_clean_analyse.describe()"
   ]
  },
  {
   "cell_type": "markdown",
   "metadata": {},
   "source": [
    " Average rating_ratio is 1.05 and maximum is observed around 1.7.Average favorites is found to be 8760 and maximum favorites is found to be 165062.Average retweets is found to be 2713 and maximum retweets is found to be 84376 ."
   ]
  },
  {
   "cell_type": "code",
   "execution_count": 83,
   "metadata": {},
   "outputs": [
    {
     "name": "stdout",
     "output_type": "stream",
     "text": [
      "Index(['tweet_id', 'timestamp', 'source', 'text', 'expanded_urls',\n",
      "       'rating_numerator', 'rating_denominator', 'name', 'rating_ratio',\n",
      "       'stage', 'favorites', 'retweets', 'jpg_url', 'img_num', 'p1', 'p1_conf',\n",
      "       'p1_dog', 'p2', 'p2_conf', 'p2_dog', 'p3', 'p3_conf', 'p3_dog',\n",
      "       'predicted'],\n",
      "      dtype='object')\n"
     ]
    },
    {
     "data": {
      "text/plain": [
       "array([ 0.3,  0.4,  0.5,  0.6,  0.7,  0.8,  0.9,  1. ,  1.1,  1.2,  1.3,\n",
       "        1.4])"
      ]
     },
     "execution_count": 83,
     "metadata": {},
     "output_type": "execute_result"
    }
   ],
   "source": [
    "twitter_archive_clean=twitter_archive_clean.round({'rating_ratio': 1})\n",
    "print(twitter_archive_clean.columns)\n",
    "values=np.sort(twitter_archive_clean.rating_ratio.unique())\n",
    "values"
   ]
  },
  {
   "cell_type": "markdown",
   "metadata": {},
   "source": [
    "# DOG STAGE ANALYSIS"
   ]
  },
  {
   "cell_type": "markdown",
   "metadata": {},
   "source": [
    "Below show the distribution of the dogs stage.We can see of the stages described in the tweets ,Majority cases belong to pupper stage.It is followed by doggo with second highest count.While floofer is least mentioned stage in tweet."
   ]
  },
  {
   "cell_type": "code",
   "execution_count": 84,
   "metadata": {},
   "outputs": [
    {
     "data": {
      "text/plain": [
       "count        291\n",
       "unique         4\n",
       "top       pupper\n",
       "freq         199\n",
       "Name: stage, dtype: object"
      ]
     },
     "execution_count": 84,
     "metadata": {},
     "output_type": "execute_result"
    },
    {
     "data": {
      "image/png": "[encoded data removed]",
      "text/plain": [
       "<matplotlib.figure.Figure at 0x7f54056855f8>"
      ]
     },
     "metadata": {},
     "output_type": "display_data"
    }
   ],
   "source": [
    "dogstage=twitter_archive_clean[['tweet_id','rating_ratio','favorites','retweets','stage']]\n",
    "dogstage['stage'].value_counts().plot(kind='pie')\n",
    "dogstage['stage'].describe()"
   ]
  },
  {
   "cell_type": "markdown",
   "metadata": {},
   "source": [
    "Puppo has most retweets and pupper has least retweets."
   ]
  },
  {
   "cell_type": "code",
   "execution_count": 85,
   "metadata": {},
   "outputs": [
    {
     "data": {
      "text/plain": [
       "<matplotlib.axes._subplots.AxesSubplot at 0x7f541ef1b0b8>"
      ]
     },
     "execution_count": 85,
     "metadata": {},
     "output_type": "execute_result"
    },
    {
     "data": {
      "image/png": "[encoded data removed]",
      "text/plain": [
       "<matplotlib.figure.Figure at 0x7f54056956d8>"
      ]
     },
     "metadata": {
      "needs_background": "light"
     },
     "output_type": "display_data"
    }
   ],
   "source": [
    "dogstage.groupby('stage')['retweets'].mean().plot(title='Dog Stage-Retweet Analysis',kind='bar')"
   ]
  },
  {
   "cell_type": "markdown",
   "metadata": {},
   "source": [
    "Puppo has most retweets and pupper has least retweets."
   ]
  },
  {
   "cell_type": "code",
   "execution_count": 86,
   "metadata": {
    "scrolled": true
   },
   "outputs": [
    {
     "data": {
      "text/plain": [
       "<matplotlib.axes._subplots.AxesSubplot at 0x7f54055a7390>"
      ]
     },
     "execution_count": 86,
     "metadata": {},
     "output_type": "execute_result"
    },
    {
     "data": {
      "image/png": "[encoded data removed]",
      "text/plain": [
       "<matplotlib.figure.Figure at 0x7f5405612c50>"
      ]
     },
     "metadata": {
      "needs_background": "light"
     },
     "output_type": "display_data"
    }
   ],
   "source": [
    "dogstage.groupby('stage')['favorites'].mean().plot(title='Dog Stage-favorite Analysis',kind='bar')"
   ]
  },
  {
   "cell_type": "markdown",
   "metadata": {},
   "source": [
    "Puppo has most number of favorites  and pupper has least number of  favorites."
   ]
  },
  {
   "cell_type": "code",
   "execution_count": 87,
   "metadata": {
    "scrolled": true
   },
   "outputs": [
    {
     "data": {
      "text/plain": [
       "<matplotlib.axes._subplots.AxesSubplot at 0x7f5405ab7ef0>"
      ]
     },
     "execution_count": 87,
     "metadata": {},
     "output_type": "execute_result"
    },
    {
     "data": {
      "image/png": "[encoded data removed]",
      "text/plain": [
       "<matplotlib.figure.Figure at 0x7f5405500828>"
      ]
     },
     "metadata": {
      "needs_background": "light"
     },
     "output_type": "display_data"
    }
   ],
   "source": [
    "dogstage.groupby('stage')['rating_ratio'].mean().plot(title='Dog Stage-rating_ratio Analysis',kind='bar')"
   ]
  },
  {
   "cell_type": "markdown",
   "metadata": {},
   "source": [
    "Pupper has the least rating-ratio among the four stages of dog."
   ]
  },
  {
   "cell_type": "markdown",
   "metadata": {},
   "source": [
    "# RATING ANALYSIS:"
   ]
  },
  {
   "cell_type": "markdown",
   "metadata": {},
   "source": [
    "Below shows the Distribution of rating ratio of tweets."
   ]
  },
  {
   "cell_type": "code",
   "execution_count": 88,
   "metadata": {
    "scrolled": false
   },
   "outputs": [
    {
     "data": {
      "text/plain": [
       "<matplotlib.axes._subplots.AxesSubplot at 0x7f540548feb8>"
      ]
     },
     "execution_count": 88,
     "metadata": {},
     "output_type": "execute_result"
    },
    {
     "data": {
      "image/png": "[encoded data removed]",
      "text/plain": [
       "<matplotlib.figure.Figure at 0x7f54055b2470>"
      ]
     },
     "metadata": {
      "needs_background": "light"
     },
     "output_type": "display_data"
    }
   ],
   "source": [
    "twitter_archive_clean.rating_ratio.value_counts().plot(title='Rating Distribution',kind='bar')"
   ]
  },
  {
   "cell_type": "markdown",
   "metadata": {},
   "source": [
    "Results shows that more rating are in the range of 1 to 1.3.when ratings decreases ,frequency of rating also decreases."
   ]
  },
  {
   "cell_type": "markdown",
   "metadata": {},
   "source": [
    "RATING VS TIME ANALYSIS"
   ]
  },
  {
   "cell_type": "code",
   "execution_count": 89,
   "metadata": {},
   "outputs": [
    {
     "data": {
      "text/plain": [
       "<matplotlib.axes._subplots.AxesSubplot at 0x7f54053f8d30>"
      ]
     },
     "execution_count": 89,
     "metadata": {},
     "output_type": "execute_result"
    },
    {
     "data": {
      "image/png": "[encoded data removed]",
      "text/plain": [
       "<matplotlib.figure.Figure at 0x7f5405449160>"
      ]
     },
     "metadata": {
      "needs_background": "light"
     },
     "output_type": "display_data"
    }
   ],
   "source": [
    "twitter_archive_clean.groupby('timestamp')['rating_ratio'].mean().plot(title='Time-rating_ratio Analysis',kind='line')"
   ]
  },
  {
   "cell_type": "markdown",
   "metadata": {},
   "source": [
    "Results shows that rating gets improved over time from 2015 to 2017."
   ]
  },
  {
   "cell_type": "markdown",
   "metadata": {},
   "source": [
    "RATING VS FAVOURITE AND RETWEET ANALYSIS:"
   ]
  },
  {
   "cell_type": "code",
   "execution_count": 90,
   "metadata": {},
   "outputs": [
    {
     "data": {
      "text/plain": [
       "<matplotlib.axes._subplots.AxesSubplot at 0x7f54054498d0>"
      ]
     },
     "execution_count": 90,
     "metadata": {},
     "output_type": "execute_result"
    },
    {
     "data": {
      "image/png": "[encoded data removed]",
      "text/plain": [
       "<matplotlib.figure.Figure at 0x7f54053159b0>"
      ]
     },
     "metadata": {
      "needs_background": "light"
     },
     "output_type": "display_data"
    }
   ],
   "source": [
    "twitter_archive_clean.groupby('rating_ratio')['favorites'].mean().plot(title='favourite-rating_ratio Analysis',kind='line')"
   ]
  },
  {
   "cell_type": "code",
   "execution_count": 91,
   "metadata": {},
   "outputs": [
    {
     "data": {
      "text/plain": [
       "<matplotlib.axes._subplots.AxesSubplot at 0x7f540532cdd8>"
      ]
     },
     "execution_count": 91,
     "metadata": {},
     "output_type": "execute_result"
    },
    {
     "data": {
      "image/png": "[encoded data removed]",
      "text/plain": [
       "<matplotlib.figure.Figure at 0x7f54052f6da0>"
      ]
     },
     "metadata": {
      "needs_background": "light"
     },
     "output_type": "display_data"
    }
   ],
   "source": [
    "twitter_archive_clean.groupby('rating_ratio')['retweets'].mean().plot(title='retweets-rating_ratio Analysis',kind='line')"
   ]
  },
  {
   "cell_type": "markdown",
   "metadata": {},
   "source": [
    "Higher the rating ,favourites and retweets are higher."
   ]
  },
  {
   "cell_type": "markdown",
   "metadata": {},
   "source": [
    "# Insights:\n"
   ]
  },
  {
   "cell_type": "markdown",
   "metadata": {},
   "source": [
    "1.Of all the stages of dog,Pupper has highest frequency stage mentioned in tweets .Doggo has the second highest frequency  mentioned stage.While floofer is least mentioned stage in tweet.\n",
    "\n",
    "2.Average rating Ratio is around 1.05.Most ratio of rating are between 1 to 1.3.Retweets and favorites are higher for posts with higher rating and retweets and favourites decreases when rating decreases.\n",
    "\n",
    "3.Puppo has most favorites and retweets even though it is not frequently mentioned in tweets .Pupper has lowest favorites and retweets eventhough it is highest mentioned frequency dog stage.\n",
    "\n",
    "4.Rating ratio increased with time .Intially there are more poor rating around 2015 which decreased in 2016 and further improved in 2017. \n"
   ]
  }
 ],
 "metadata": {
  "kernelspec": {
   "display_name": "Python 3",
   "language": "python",
   "name": "python3"
  },
  "language_info": {
   "codemirror_mode": {
    "name": "ipython",
    "version": 3
   },
   "file_extension": ".py",
   "mimetype": "text/x-python",
   "name": "python",
   "nbconvert_exporter": "python",
   "pygments_lexer": "ipython3",
   "version": "3.6.3"
  }
 },
 "nbformat": 4,
 "nbformat_minor": 2
}
